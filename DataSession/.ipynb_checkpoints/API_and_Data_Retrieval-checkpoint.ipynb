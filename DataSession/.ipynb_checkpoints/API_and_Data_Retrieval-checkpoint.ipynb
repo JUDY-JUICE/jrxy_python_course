{
 "cells": [
  {
   "cell_type": "markdown",
   "metadata": {},
   "source": [
    "### API\n",
    "\n",
    "\n",
    "#### What is API\n",
    "\n",
    "API （应用程序编程接口）是不同应用程序之间的中介，使它们可以相互通信并相互传递信息。API还定义了这些应用程序应如何交互。\n",
    "\n",
    "#### How do APIs work?\n",
    "根据API的定义，可将API视为交换信息的连接器。但是，API是如何工作的呢？\n",
    "\n",
    "一个常见的比喻是在餐厅点菜。作为客户，您不能直接向正在准备食物的厨师下订单。取而代之的是，服务员接受您的订单，并将其传达回厨师，然后在准备好食物后将其交付给您。那个服务员就像一个API。\n",
    "\n",
    "#### Types of APIs\n",
    "\n",
    "- Open APIs\n",
    "- Partner APIs\n",
    "- Internal APIs\n",
    "- Composite APIs\n",
    "- REST (Representational State Transfer)\n",
    "- SOAP (Simple Object Access Protocol)\n",
    "- XML-RPC\n",
    "- JSON-RPC\n",
    "\n",
    "**APIs provide a standard way of accessing any application data, or device**"
   ]
  },
  {
   "cell_type": "markdown",
   "metadata": {},
   "source": [
    "### List of API \n",
    "\n",
    "- Pandas_datareader\n",
    "- Fixer.io\n",
    "- 阿凡达云数据\n",
    "- Tushare"
   ]
  },
  {
   "cell_type": "markdown",
   "metadata": {},
   "source": [
    "### Pandas_datareader\n",
    "\n",
    "#### Install using pip\n",
    "pip install pandas-datareader\n",
    "\n",
    "#### Data Readers\n",
    "\n",
    "Functions from **pandas_datareader.data** and **pandas_datareader.wb** extract data from various Internet sources into a pandas DataFrame. Currently the following sources are supported:\n",
    "\n",
    "- AlphaVantage\n",
    "- Federal Reserve Economic Data (FRED)\n",
    "- Fama-French Data (Ken French’s Data Library)\n",
    "- Bank of Canada\n",
    "- Econdb\n",
    "- Enigma\n",
    "- Eurostat\n",
    "- The Investors Exchange (IEX)\n",
    "- Moscow Exchange (MOEX)\n",
    "- NASDAQ\n",
    "- Naver Finance\n",
    "- Organisation for Economic Co-operation and Development (OECD)\n",
    "- Quandl\n",
    "- Stooq.com\n",
    "- Tiingo\n",
    "- Thrift Savings Plan (TSP)\n",
    "- World Bank\n",
    "\n",
    "You may not be able to use all datasets. \n",
    "\n",
    "Please refer to its Github Repo for more details: [link here](https://pandas-datareader.readthedocs.io/en/latest/readers/index.html)"
   ]
  },
  {
   "cell_type": "markdown",
   "metadata": {},
   "source": [
    "#### Data from FRED St.Louis"
   ]
  },
  {
   "cell_type": "code",
   "execution_count": 3,
   "metadata": {},
   "outputs": [
    {
     "data": {
      "text/html": [
       "<div>\n",
       "<style scoped>\n",
       "    .dataframe tbody tr th:only-of-type {\n",
       "        vertical-align: middle;\n",
       "    }\n",
       "\n",
       "    .dataframe tbody tr th {\n",
       "        vertical-align: top;\n",
       "    }\n",
       "\n",
       "    .dataframe thead th {\n",
       "        text-align: right;\n",
       "    }\n",
       "</style>\n",
       "<table border=\"1\" class=\"dataframe\">\n",
       "  <thead>\n",
       "    <tr style=\"text-align: right;\">\n",
       "      <th></th>\n",
       "      <th>GS10</th>\n",
       "    </tr>\n",
       "    <tr>\n",
       "      <th>DATE</th>\n",
       "      <th></th>\n",
       "    </tr>\n",
       "  </thead>\n",
       "  <tbody>\n",
       "    <tr>\n",
       "      <th>2015-12-01</th>\n",
       "      <td>2.24</td>\n",
       "    </tr>\n",
       "    <tr>\n",
       "      <th>2016-01-01</th>\n",
       "      <td>2.09</td>\n",
       "    </tr>\n",
       "    <tr>\n",
       "      <th>2016-02-01</th>\n",
       "      <td>1.78</td>\n",
       "    </tr>\n",
       "    <tr>\n",
       "      <th>2016-03-01</th>\n",
       "      <td>1.89</td>\n",
       "    </tr>\n",
       "    <tr>\n",
       "      <th>2016-04-01</th>\n",
       "      <td>1.81</td>\n",
       "    </tr>\n",
       "  </tbody>\n",
       "</table>\n",
       "</div>"
      ],
      "text/plain": [
       "            GS10\n",
       "DATE            \n",
       "2015-12-01  2.24\n",
       "2016-01-01  2.09\n",
       "2016-02-01  1.78\n",
       "2016-03-01  1.89\n",
       "2016-04-01  1.81"
      ]
     },
     "execution_count": 3,
     "metadata": {},
     "output_type": "execute_result"
    }
   ],
   "source": [
    "import pandas_datareader as pdr\n",
    "pd = pdr.get_data_fred('GS10')\n",
    "pd.head()"
   ]
  },
  {
   "cell_type": "code",
   "execution_count": 2,
   "metadata": {},
   "outputs": [
    {
     "data": {
      "text/html": [
       "<div>\n",
       "<style scoped>\n",
       "    .dataframe tbody tr th:only-of-type {\n",
       "        vertical-align: middle;\n",
       "    }\n",
       "\n",
       "    .dataframe tbody tr th {\n",
       "        vertical-align: top;\n",
       "    }\n",
       "\n",
       "    .dataframe thead th {\n",
       "        text-align: right;\n",
       "    }\n",
       "</style>\n",
       "<table border=\"1\" class=\"dataframe\">\n",
       "  <thead>\n",
       "    <tr style=\"text-align: right;\">\n",
       "      <th></th>\n",
       "      <th>GDP</th>\n",
       "    </tr>\n",
       "    <tr>\n",
       "      <th>DATE</th>\n",
       "      <th></th>\n",
       "    </tr>\n",
       "  </thead>\n",
       "  <tbody>\n",
       "    <tr>\n",
       "      <th>2015-01-01</th>\n",
       "      <td>18003.399</td>\n",
       "    </tr>\n",
       "    <tr>\n",
       "      <th>2015-04-01</th>\n",
       "      <td>18223.577</td>\n",
       "    </tr>\n",
       "    <tr>\n",
       "      <th>2015-07-01</th>\n",
       "      <td>18347.425</td>\n",
       "    </tr>\n",
       "    <tr>\n",
       "      <th>2015-10-01</th>\n",
       "      <td>18378.803</td>\n",
       "    </tr>\n",
       "    <tr>\n",
       "      <th>2016-01-01</th>\n",
       "      <td>18470.156</td>\n",
       "    </tr>\n",
       "  </tbody>\n",
       "</table>\n",
       "</div>"
      ],
      "text/plain": [
       "                  GDP\n",
       "DATE                 \n",
       "2015-01-01  18003.399\n",
       "2015-04-01  18223.577\n",
       "2015-07-01  18347.425\n",
       "2015-10-01  18378.803\n",
       "2016-01-01  18470.156"
      ]
     },
     "execution_count": 2,
     "metadata": {},
     "output_type": "execute_result"
    }
   ],
   "source": [
    "import pandas_datareader.data as web\n",
    "import datetime\n",
    "start = datetime.datetime(2015,1,1)\n",
    "end = datetime.datetime(2020,1,1)\n",
    "gdp = web.DataReader('GDP', 'fred', start, end)\n",
    "gdp.head()"
   ]
  },
  {
   "cell_type": "markdown",
   "metadata": {},
   "source": [
    "#### Data from Yahoo"
   ]
  },
  {
   "cell_type": "code",
   "execution_count": 3,
   "metadata": {},
   "outputs": [
    {
     "data": {
      "text/html": [
       "<div>\n",
       "<style scoped>\n",
       "    .dataframe tbody tr th:only-of-type {\n",
       "        vertical-align: middle;\n",
       "    }\n",
       "\n",
       "    .dataframe tbody tr th {\n",
       "        vertical-align: top;\n",
       "    }\n",
       "\n",
       "    .dataframe thead th {\n",
       "        text-align: right;\n",
       "    }\n",
       "</style>\n",
       "<table border=\"1\" class=\"dataframe\">\n",
       "  <thead>\n",
       "    <tr style=\"text-align: right;\">\n",
       "      <th></th>\n",
       "      <th>High</th>\n",
       "      <th>Low</th>\n",
       "      <th>Open</th>\n",
       "      <th>Close</th>\n",
       "      <th>Volume</th>\n",
       "      <th>Adj Close</th>\n",
       "    </tr>\n",
       "    <tr>\n",
       "      <th>Date</th>\n",
       "      <th></th>\n",
       "      <th></th>\n",
       "      <th></th>\n",
       "      <th></th>\n",
       "      <th></th>\n",
       "      <th></th>\n",
       "    </tr>\n",
       "  </thead>\n",
       "  <tbody>\n",
       "    <tr>\n",
       "      <th>2020-10-23</th>\n",
       "      <td>116.550003</td>\n",
       "      <td>114.279999</td>\n",
       "      <td>116.389999</td>\n",
       "      <td>115.040001</td>\n",
       "      <td>82572600.0</td>\n",
       "      <td>115.040001</td>\n",
       "    </tr>\n",
       "    <tr>\n",
       "      <th>2020-10-26</th>\n",
       "      <td>116.550003</td>\n",
       "      <td>112.879997</td>\n",
       "      <td>114.010002</td>\n",
       "      <td>115.050003</td>\n",
       "      <td>111850700.0</td>\n",
       "      <td>115.050003</td>\n",
       "    </tr>\n",
       "    <tr>\n",
       "      <th>2020-10-27</th>\n",
       "      <td>117.279999</td>\n",
       "      <td>114.540001</td>\n",
       "      <td>115.489998</td>\n",
       "      <td>116.599998</td>\n",
       "      <td>92276800.0</td>\n",
       "      <td>116.599998</td>\n",
       "    </tr>\n",
       "    <tr>\n",
       "      <th>2020-10-28</th>\n",
       "      <td>115.430000</td>\n",
       "      <td>111.099998</td>\n",
       "      <td>115.050003</td>\n",
       "      <td>111.199997</td>\n",
       "      <td>143525000.0</td>\n",
       "      <td>111.199997</td>\n",
       "    </tr>\n",
       "    <tr>\n",
       "      <th>2020-10-29</th>\n",
       "      <td>115.328499</td>\n",
       "      <td>112.279999</td>\n",
       "      <td>112.370003</td>\n",
       "      <td>115.143997</td>\n",
       "      <td>61523716.0</td>\n",
       "      <td>115.143997</td>\n",
       "    </tr>\n",
       "  </tbody>\n",
       "</table>\n",
       "</div>"
      ],
      "text/plain": [
       "                  High         Low        Open       Close       Volume  \\\n",
       "Date                                                                      \n",
       "2020-10-23  116.550003  114.279999  116.389999  115.040001   82572600.0   \n",
       "2020-10-26  116.550003  112.879997  114.010002  115.050003  111850700.0   \n",
       "2020-10-27  117.279999  114.540001  115.489998  116.599998   92276800.0   \n",
       "2020-10-28  115.430000  111.099998  115.050003  111.199997  143525000.0   \n",
       "2020-10-29  115.328499  112.279999  112.370003  115.143997   61523716.0   \n",
       "\n",
       "             Adj Close  \n",
       "Date                    \n",
       "2020-10-23  115.040001  \n",
       "2020-10-26  115.050003  \n",
       "2020-10-27  116.599998  \n",
       "2020-10-28  111.199997  \n",
       "2020-10-29  115.143997  "
      ]
     },
     "execution_count": 3,
     "metadata": {},
     "output_type": "execute_result"
    }
   ],
   "source": [
    "# Get data from Yahoo\n",
    "import pandas_datareader.data as web\n",
    "import datetime\n",
    "start = datetime.datetime(2019, 1, 1) # or start = '1/1/2016'\n",
    "end = datetime.date.today()\n",
    "prices = web.DataReader('AAPL', 'yahoo', start, end)\n",
    "prices.tail()"
   ]
  },
  {
   "cell_type": "markdown",
   "metadata": {},
   "source": [
    "**Exercise：**\n",
    "\n",
    "- 请大家结合上述实例，使用pandas-datareader从oecd获取名称为‘TUD’的数据集。"
   ]
  },
  {
   "cell_type": "markdown",
   "metadata": {},
   "source": [
    "#### requests第三方库\n",
    "\n",
    "The requests module allows you to send HTTP requests using Python.\n",
    "\n",
    "The HTTP request returns a `Response Object` with all the response data (content, encoding, status, etc).\n",
    "\n",
    "\n",
    "Detail: https://requests.readthedocs.io/en/master/"
   ]
  },
  {
   "cell_type": "code",
   "execution_count": null,
   "metadata": {},
   "outputs": [],
   "source": [
    "import requests\n",
    "\n",
    "r=requests.get(\"http://www.baidu.com\")\n",
    "r.status_code\n",
    "r.encoding='utf-8'\n",
    "r.text\n"
   ]
  },
  {
   "cell_type": "markdown",
   "metadata": {},
   "source": [
    "#### Requests库的7种方法\n",
    "\n",
    "- requests.requests()\n",
    "构造一个请求，支撑以下各方法的基础方法\n",
    "- requests.get()\n",
    "获取HTML网页的主要方法\n",
    "- requests.head()\n",
    "获取HTML网页头部信息的方法\n",
    "- requests.post()\n",
    "- requests.put()\n",
    "- requests.patch()\n",
    "- requests.delete()"
   ]
  },
  {
   "cell_type": "markdown",
   "metadata": {},
   "source": [
    "**Syntax：** r = requests.get(url, params=None, kwargs)\n",
    "\n",
    "url: 拟获取页面的url链接；\n",
    "params：url中的额外参数，字典或字节流格式，可选；\n",
    "kwargs：12个控制访问的参数\n",
    "\n",
    "Reponse对象的属性：\n",
    "\n",
    "- r.status_code HTTP请求的返回状态，200表示成功，404表示失败\n",
    "\n",
    "- r.text HTTP响应内容的字符串形式，即，url对应的页面内容\n",
    "\n",
    "- r.encoding 从HTTP header中猜测的响应内容编码方式\n",
    "\n",
    "- r.apparent_encoding 从内容中分析出的响应内容编码方式（备选编码方式）\n",
    "\n",
    "- r.content HTTP响应内容的二进制形式"
   ]
  },
  {
   "cell_type": "markdown",
   "metadata": {},
   "source": [
    "**Exercise:**\n",
    "    \n",
    "- 请大家使用requests库去获取你感兴趣的网页，并查看response对象的属性。\n",
    "- 思考如何使用urllib库实现上述功能。"
   ]
  },
  {
   "cell_type": "markdown",
   "metadata": {},
   "source": [
    "#### JSON\n",
    "\n",
    "JSON(JavaScript Object Notation, JS 对象表示法) 是一种轻量级的数据交换格式。它基于 ECMAScript (欧洲计算机协会制定的js规范)的一个子集，采用完全独立于编程语言的文本格式来存储和表示数据。简洁和清晰的层次结构使得 JSON 成为理想的数据交换语言。 易于人阅读和编写，同时也易于机器解析和生成，并有效地提升网络传输效率。\n",
    "\n",
    "Python3 中可以使用 json 模块来对 JSON 数据进行编解码，它包含了两个函数：\n",
    "\n",
    "- json.dumps(): 对数据进行编码。\n",
    "- json.loads(): 对数据进行解码。"
   ]
  },
  {
   "cell_type": "markdown",
   "metadata": {},
   "source": [
    "#### Fixer.io\n",
    "\n",
    "Powered by 15+ exchange rate data sources, the Fixer API is capable of delivering real-time **exchange rate data** for 170 world currencies. The API comes with multiple endpoints, each serving a different use case. Endpoint functionalities include getting the latest exchange rate data for all or a specific set of currencies, converting amounts from one currency to another, retrieving Time-Series data for one or multiple currencies and querying the API for daily fluctuation data.\n",
    "\n",
    "https://fixer.io/documentation\n",
    "\n",
    "**You need to sign in and get an access key to kick off** "
   ]
  },
  {
   "cell_type": "code",
   "execution_count": 22,
   "metadata": {},
   "outputs": [
    {
     "name": "stdin",
     "output_type": "stream",
     "text": [
      "Please input a date with a proper format YYYY-MM-DD: 2020-01-01\n"
     ]
    },
    {
     "name": "stdout",
     "output_type": "stream",
     "text": [
      "Exchange Rate on 2020-01-01:\n",
      "1 USD = 1.12183 EUR\n",
      "1 AUD = 1.598259 EUR\n",
      "1 CAD = 1.45563 EUR\n",
      "1 CNY = 7.811525 EUR\n",
      "1 CHF = 1.085595 EUR\n",
      "1 GBP = 0.846759 EUR\n",
      "1 HKD = 8.742138 EUR\n"
     ]
    }
   ],
   "source": [
    "def get_fixer_hist(date, symbols = 'USD,AUD,CAD,CNY,CHF,GBP,HKD'):\n",
    "    import requests\n",
    "    import json\n",
    "    # get the data from fixerAPI\n",
    "    # You need to sign in to obtain a free access_key \n",
    "    access_key = '0287efab831449699ce8333ec5307d00'\n",
    "    root_url = 'http://data.fixer.io/api/'\n",
    "    # Make the URL\n",
    "    url = root_url + date +'?'+ 'access_key='+ access_key + '&symbols=' + symbols + '&format=1'\n",
    "    # Creat a header\n",
    "    headers = {'User-Agent': 'Mozilla/5.0 (Windows; U; Windows NT 6.1; en-US) AppleWebKit/534.16 (KHTML, like Gecko) Chrome/10.0.648.133 Safari/534.16'}\n",
    "    # request data from API\n",
    "    res = requests.get(url, headers = headers)\n",
    "    # Get content, in case of Chinese we need to encode\n",
    "    content = res.text\n",
    "    # Load JSON data\n",
    "    dcon = json.loads(content)\n",
    "    return dcon['date'], dcon['rates'], url\n",
    "\n",
    "dat = input('Please input a date with a proper format YYYY-MM-DD:')\n",
    "date, rates, url = get_fixer_hist(dat)\n",
    "print('Exchange Rate on {}:'.format(date))\n",
    "for key,values in rates.items():\n",
    "    print('1 '+ key +' = '+ str(values) +' EUR')"
   ]
  },
  {
   "cell_type": "markdown",
   "metadata": {},
   "source": [
    "#### 阿凡达云数据平台\n",
    "\n",
    "https://www.avatardata.cn/Docs"
   ]
  },
  {
   "cell_type": "code",
   "execution_count": 15,
   "metadata": {},
   "outputs": [
    {
     "name": "stdin",
     "output_type": "stream",
     "text": [
      "想听谁的八卦: 特朗普\n"
     ]
    },
    {
     "name": "stdout",
     "output_type": "stream",
     "text": [
      "特朗普要 炒掉 福奇?  2020-11-03 04:28:00\n",
      "特朗普暗示选后炒掉福奇  2020-11-03 04:24:24\n",
      "特朗普 最青睐的防疫顾问 道歉。  2020-11-02 16:27:39\n",
      "特朗普:领先也不会提前宣布胜选 但将寻求禁止选举日后计票  2020-11-02 14:20:00\n"
     ]
    }
   ],
   "source": [
    "def avatardata(keyword):\n",
    "    import requests\n",
    "    import json\n",
    "    \n",
    "    access_key = '3c901762cd104a2793df344b6015ff00'\n",
    "    root_url = 'http://api.avatardata.cn/ActNews/Query?'\n",
    "    url = root_url + 'key=' + access_key + '&keyword=' + keyword\n",
    "    headers = {'User-Agent': 'Mozilla/5.0 (Windows; U; Windows NT 6.1; en-US) AppleWebKit/534.16 (KHTML, like Gecko) Chrome/10.0.648.133 Safari/534.16'}\n",
    "    # request data from API\n",
    "    res = requests.get(url, headers = headers)\n",
    "    # Get content, in case of Chinese we need to encode\n",
    "    content = res.text\n",
    "    # Load JSON data\n",
    "    dcon = json.loads(content)\n",
    "    return dcon['result'], url\n",
    "\n",
    "keyword = input('想听谁的八卦:')\n",
    "res, url = avatardata(keyword)\n",
    "\n",
    "for r in res:\n",
    "    print(r['full_title'] +'  '+ r['pdate_src'] ) "
   ]
  },
  {
   "cell_type": "markdown",
   "metadata": {},
   "source": [
    "**Exercise:**\n",
    "\n",
    "- 请尝试从fixerAPI获取最新一日的美元兑欧元汇率。\n",
    "- 请尝试从 http://api.avatardata.cn/Stock/CN 接口查询 000001.SZ 最近一日的信息。"
   ]
  },
  {
   "cell_type": "markdown",
   "metadata": {},
   "source": [
    "#### Tushare\n",
    "\n",
    "https://tushare.pro/document/2\n",
    "\n",
    "- 下载安装\n",
    "\n",
    "pip install tushare\n",
    "\n",
    "如果安装网络超时可尝试国内pip源，如pip install tushare -i https://pypi.tuna.tsinghua.edu.cn/simple\n",
    "\n",
    "- 版本升级\n",
    "\n",
    "pip install tushare --upgrade\n",
    "\n",
    "- 查看当前版本\n",
    "\n",
    "import tushare\n",
    "\n",
    "print(tushare.__version__)"
   ]
  },
  {
   "cell_type": "code",
   "execution_count": 19,
   "metadata": {},
   "outputs": [
    {
     "name": "stdout",
     "output_type": "stream",
     "text": [
      "       ts_code trade_date   open   high    low  close  pre_close  change  \\\n",
      "0    000001.SZ   20200717  14.17  14.28  13.95  14.14      14.15   -0.01   \n",
      "1    000001.SZ   20200716  14.30  14.55  14.12  14.15      14.27   -0.12   \n",
      "2    000001.SZ   20200715  14.78  14.86  14.23  14.27      14.68   -0.41   \n",
      "3    000001.SZ   20200714  14.90  15.19  14.55  14.68      14.89   -0.21   \n",
      "4    000001.SZ   20200713  14.70  15.08  14.50  14.89      14.86    0.03   \n",
      "..         ...        ...    ...    ...    ...    ...        ...     ...   \n",
      "493  000001.SZ   20180706   8.61   8.78   8.45   8.66       8.60    0.06   \n",
      "494  000001.SZ   20180705   8.62   8.73   8.55   8.60       8.61   -0.01   \n",
      "495  000001.SZ   20180704   8.63   8.75   8.61   8.61       8.67   -0.06   \n",
      "496  000001.SZ   20180703   8.69   8.70   8.45   8.67       8.61    0.06   \n",
      "497  000001.SZ   20180702   9.05   9.05   8.55   8.61       9.09   -0.48   \n",
      "\n",
      "     pct_chg         vol       amount  \n",
      "0    -0.0707  1291346.77  1821043.927  \n",
      "1    -0.8409  1930891.29  2771496.391  \n",
      "2    -2.7929  2042562.83  2947173.149  \n",
      "3    -1.4103  1953566.27  2891773.817  \n",
      "4     0.2019  1937160.12  2871414.844  \n",
      "..       ...         ...          ...  \n",
      "493   0.7000   988282.69   852071.526  \n",
      "494  -0.1200   835768.77   722169.579  \n",
      "495  -0.6900   711153.37   617278.559  \n",
      "496   0.7000  1274838.57  1096657.033  \n",
      "497  -5.2800  1315520.13  1158545.868  \n",
      "\n",
      "[498 rows x 11 columns]\n"
     ]
    }
   ],
   "source": [
    "import tushare as ts\n",
    "\n",
    "tushare_token = '1c8b06446534ae510c8c68e38fc248b99f89ac3814cb55645ae2be72'  # 请在 tushare.pro 网站注册并且告知学生身份，可以取得你的token\n",
    "pro = ts.pro_api(tushare_token)\n",
    "\n",
    "df = pro.daily(ts_code='000001.SZ', start_date='20180701', end_date='20200718')\n",
    "\n",
    "print(df)"
   ]
  },
  {
   "cell_type": "markdown",
   "metadata": {},
   "source": [
    "### Homework\n",
    "\n",
    "- 从tushare下载到股票的日线行情数据后，如何将返回的trade_date作为数据的index？对于数据中的缺失值和异常值应如何处理？\n",
    "\n",
    "- 在使用requests获取网页的时候，不同的网页是否会报错？应如何处理？\n",
    "\n",
    "- 除了本课堂介绍的API之外，还有许多其它的财经类开源数据接口（AKshare，baostock等），请同学们自行了解。"
   ]
  },
  {
   "cell_type": "code",
   "execution_count": null,
   "metadata": {},
   "outputs": [],
   "source": []
  }
 ],
 "metadata": {
  "kernelspec": {
   "display_name": "Python 3",
   "language": "python",
   "name": "python3"
  },
  "language_info": {
   "codemirror_mode": {
    "name": "ipython",
    "version": 3
   },
   "file_extension": ".py",
   "mimetype": "text/x-python",
   "name": "python",
   "nbconvert_exporter": "python",
   "pygments_lexer": "ipython3",
   "version": "3.7.9"
  }
 },
 "nbformat": 4,
 "nbformat_minor": 4
}
