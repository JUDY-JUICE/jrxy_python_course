{
 "cells": [
  {
   "cell_type": "markdown",
   "metadata": {},
   "source": [
    "### 金融领域中的自然语言处理"
   ]
  },
  {
   "cell_type": "markdown",
   "metadata": {},
   "source": [
    "NLP本身是人工智能中的一个重要的方向，简单来说，**自然语言处理的目标就是让机器去理解人的文本或语言**，其中如机器翻译、语音识别、语义理解、智能问答，知识图谱等都属于NLP的范畴。\n",
    "\n",
    "自计算机诞生伊始，人类就致力于让机器来理解我们语言。随着人工智能、计算机科学、信息工程、统计学、甚至语言学等学科知识的不断进步，目前NLP已经拥有了大量的商业应用，如机器翻译（Google翻译、有道翻译等）、知识图谱（以Google为代表的搜索引擎）、智能问答（Apple的Siri、亚马逊的Alexa以及各种智能机器人）等等。\n",
    "\n",
    "但是，金融领域的NLP目前仍处于探索阶段，金融本身是一个专业性很高的领域，很多词汇在金融语境下会产生特殊含义，所有的子问题都会有一个独特的理解方式，而且金融领域衡量处理结果的方式也与其他领域不同。比如针对舆情分析，金融领域要求对市场未来的走势有一定的预见性。\n",
    "\n",
    "因此，金融领域的NLP需要准备特殊的训练数据集，而目前NLP所有方法都是基于大量的数据集基础上，数据集的缺乏也是目前NLP在金融领域所面临的最大问题之一，这也是金融领域高度的专业性与深度导致的。"
   ]
  },
  {
   "cell_type": "markdown",
   "metadata": {},
   "source": [
    "#### 一个强大的NLP系统能够帮助金融机构解决哪些实际问题？\n",
    "\n",
    "全网舆情监控、产业链分析、让机器帮助金融机构阅读大量新闻。\n",
    "\n",
    "例如，商业银行希望使用更全面的数据进行企业的信贷风险管理，提前感知企业的潜在风险。目前常规的风险评估方法是根据企业公布的年报，并综合信贷员实地调查的结果进行判断，但是由于企业自身风险报出通常具有滞后性，公开信息覆盖度不高，看到的往往只是冰山一角，因此判断风险的手段十分单一。这也是NLP与人工智能可以发挥作用的地方。\n",
    "\n",
    "NLP可以对信息进行多维关系的挖掘，评估企业之间的关系，并通过知识图谱直观呈现企业之间的关联，提前设立预警信号，一旦企业关系网内的相关对象出现任意变动，便可根据关系权重，快速地评估对整个关系网的影响程度。\n",
    "\n",
    "![](http://5b0988e595225.cdn.sohucs.com/images/20180817/1be14f4f13914a80bd3c29ed7e74b4c4.png)"
   ]
  },
  {
   "cell_type": "markdown",
   "metadata": {},
   "source": [
    "#### 金融语义应用场景概念框\n",
    "\n",
    "1. 智能问答和语义搜索\n",
    "\n",
    "智能问答和语义搜索是自然语言处理（NLP）的关键技术，目的是让用户以自然语言形式提出问题，深入进行语义分析，以更好理解用户意图，快速准确获取知识库中的信息。在用户界面上，既可以表现为问答机器人的形式（智能问答），也可以为搜索引擎的形式（语义搜索）。智能问答系统一般包括问句理解、信息检索、答案生成三个环节。基于知识图谱的智能问答相比基于文本的问答更能满足金融业务实际需求。\n",
    "\n",
    "2. 资讯与舆情分析\n",
    "\n",
    "金融资讯信息非常丰富，例如公司新闻（公告、重要事件、财务状况等）、金融产品资料（股票、证券等）、宏观经济（通货膨胀、失业率等）、政策法规（宏观政策、税收政策等）、社交媒体评论等。金融资讯每天产生的数量非常庞大，要从浩如烟海的资讯库中准确找到相关文章，还要阅读分析每篇重要内容，是费时费力的工作。如果有一个工具帮助人工快速迅捷获取资讯信息，将大大提高工作效率。资讯舆情分析的主要功能包括资讯分类标签（按公司、产品、行业、概念板块等）、情感正负面分析（文章、公司或产品的情感）、自动文摘（文章的主要内容）、资讯个性化推荐、舆情监测预警（热点热度、云图、负面预警等）。\n",
    "\n",
    "3. 金融预测和分析\n",
    "\n",
    "基于语义的金融预测即利用金融文本中包含的信息预测各种金融市场波动，它是以NLP等人工智能技术与量化金融技术的结合。金融文本数据提供的信息是定性的（qualitative），而通常数字形式的数据是定量的（quantitative）。定性分析比定量分析更难，定性信息包含的信息量更大。有分析表明，投资决策人员在进行决策时，更多依赖于新闻、事件甚至流言等定性信息，而非定量数据。因此，可期待基于语义的金融预测分析大有潜力可挖。这个场景中涉及的关键NLP技术包括事件抽取和情感分析技术。\n",
    "\n",
    "4. 文档信息抽取\n",
    "\n",
    "信息抽取是NLP的一种基础技术，是NLP进一步进行数据挖掘分析的基础，也是知识图谱中知识抽取的基础。采用的方法包括基于规则模板的槽填充的方法、基于机器学习或深度学习的方法。按抽取内容分可以分为实体抽取、属性抽取、关系抽取、规则抽取、事件抽取等。在这里的文档信息抽取特指一种金融应用场景。指从金融文档（如公告研报）等抽取指定的关键信息，如公司名称、人名、指标名称、数值等。文档格式可能是格式化文档（word, pdf, html等）或纯文本。对格式化文本进行抽取时需要处理并利用表格、标题等格式信息。\n",
    "\n",
    "5. 自动文档生成\n",
    "\n",
    "自动文档生成指根据一定的数据来源自动产生各类金融文档。常见的需要生成的金融文档如信息披露公告（债券评级、股转书等）、各种研究报告。自动报告生成属于生成型NLP应用。它的数据来源可能是结构化数据，也可能是从非结构化数据用信息抽取技术取得的，也可能是在金融预测分析场景中获得的结论。简单的报告生成方法是根据预定义的模板，把关键数据填充进去得到报告。进一步的自动报告生成需要比较深入的NLG技术，它可以把数据和分析结论转换成流畅的自然语言文本。\n"
   ]
  },
  {
   "cell_type": "markdown",
   "metadata": {},
   "source": [
    "### 百度LAC \n",
    "\n",
    "LAC全称Lexical Analysis of Chinese，是百度自然语言处理部研发的一款联合的词法分析工具，实现中文分词、词性标注、专名识别等功能。具体内容参见https://github.com/baidu/lac/\n",
    "\n",
    "安装\n",
    "- 全自动安装: ``pip install lac``\n",
    "- 使用百度源安装，安装速率更快：``pip install lac -i https://mirror.baidu.com/pypi/simple``\n"
   ]
  },
  {
   "cell_type": "markdown",
   "metadata": {},
   "source": [
    "#### 分词"
   ]
  },
  {
   "cell_type": "code",
   "execution_count": 2,
   "metadata": {},
   "outputs": [],
   "source": [
    "from LAC import LAC\n",
    "\n",
    "# 装载分词模型\n",
    "lac = LAC(mode='seg')\n",
    "\n",
    "# 单个样本输入\n",
    "text = u\"LAC是个优秀的分词工具\"\n",
    "seg_result = lac.run(text)\n",
    "\n",
    "# 批量样本输入, 输入为多个句子组成的list，平均速率会更快\n",
    "texts = [u\"LAC是个优秀的分词工具\", u\"百度是一家高科技公司\"]\n",
    "seg_result = lac.run(texts)"
   ]
  },
  {
   "cell_type": "code",
   "execution_count": 52,
   "metadata": {},
   "outputs": [
    {
     "data": {
      "text/plain": [
       "[['LAC', '是', '个', '优秀', '的', '分词', '工具'], ['百度', '是', '一家', '高科技', '公司']]"
      ]
     },
     "execution_count": 52,
     "metadata": {},
     "output_type": "execute_result"
    }
   ],
   "source": [
    "seg_result"
   ]
  },
  {
   "cell_type": "markdown",
   "metadata": {},
   "source": [
    "#### 词性标注与实体识别"
   ]
  },
  {
   "cell_type": "code",
   "execution_count": 3,
   "metadata": {},
   "outputs": [],
   "source": [
    "from LAC import LAC\n",
    "\n",
    "# 装载LAC模型\n",
    "lac = LAC(mode='lac')\n",
    "\n",
    "# 单个样本输入，输入为Unicode编码的字符串\n",
    "text = u\"LAC是个优秀的分词工具\"\n",
    "lac_result = lac.run(text)\n",
    "\n",
    "# 批量样本输入, 输入为多个句子组成的list，平均速率更快\n",
    "texts = [u\"LAC是个优秀的分词工具\", u\"百度是一家高科技公司\"]\n",
    "lac_result = lac.run(texts)"
   ]
  },
  {
   "cell_type": "code",
   "execution_count": 53,
   "metadata": {},
   "outputs": [
    {
     "data": {
      "text/plain": [
       "[[['LAC', '是', '个', '优秀', '的', '分词', '工具'],\n",
       "  ['nz', 'v', 'q', 'a', 'u', 'n', 'n']],\n",
       " [['百度', '是', '一家', '高科技', '公司'], ['ORG', 'v', 'm', 'n', 'n']]]"
      ]
     },
     "execution_count": 53,
     "metadata": {},
     "output_type": "execute_result"
    }
   ],
   "source": [
    "lac_result"
   ]
  },
  {
   "cell_type": "markdown",
   "metadata": {},
   "source": [
    "### “结巴”分词\n",
    "\n",
    "jieba是一个Python中文分词组件，可以对中文文本进行分词、词性标注、关键词抽取等功能，并且支持自定义词典。具体参见https://github.com/fxsjy/jieba  \n",
    "\n",
    "安装：\n",
    "``pip install jieba``"
   ]
  },
  {
   "cell_type": "markdown",
   "metadata": {},
   "source": [
    "#### 分词"
   ]
  },
  {
   "cell_type": "code",
   "execution_count": 62,
   "metadata": {},
   "outputs": [
    {
     "name": "stdout",
     "output_type": "stream",
     "text": [
      "我/ 来自/ 浙江/ 工商/ 工商大学/ 商大/ 大学\n"
     ]
    }
   ],
   "source": [
    "import jieba\n",
    "\n",
    "text = '我来自浙江工商大学'\n",
    "\n",
    "seg_list = jieba.lcut(text, cut_all=True) ## cut_all 参数用来控制是否采用全模式\n",
    "print(\"/ \".join(seg_list)) "
   ]
  },
  {
   "cell_type": "markdown",
   "metadata": {},
   "source": [
    "#### 词性标注"
   ]
  },
  {
   "cell_type": "code",
   "execution_count": 61,
   "metadata": {},
   "outputs": [
    {
     "name": "stdout",
     "output_type": "stream",
     "text": [
      "我 r\n",
      "来自 v\n",
      "浙江 ns\n",
      "工商大学 nt\n"
     ]
    }
   ],
   "source": [
    "import jieba.posseg as pseg\n",
    "\n",
    "words = pseg.lcut(text)\n",
    "for word, flag in words:\n",
    "    print('{} {}'.format(word, flag))  ## 格式化输出"
   ]
  },
  {
   "cell_type": "markdown",
   "metadata": {},
   "source": [
    "#### 关键词提取\n",
    "\n",
    "**基于 TF-IDF 算法的关键词提取**\n",
    "\n",
    "  TF-IDF（Term Frequency-Inverse Document Frequency, 词频-逆文件频率）是一种统计方法，用以评估一个词语对于一个文件集或一个语料库中的一份文件的重要程度，其原理可概括为：\n",
    "\n",
    "> 一个词语在一篇文章中出现次数越多，同时在所有文档中出现次数越少，越能够代表该词语很关键\n",
    "\n",
    "计算公式：TF * IDF，其中：\n",
    "\n",
    "- TF(term frequency, TF)：词频，某一个给定词语word在文件中出现的次数，tf = (word在文档中出现的次数)/ (文档总词数)\n",
    "\n",
    "- IDF(inverse document frequency, IDF)：逆文件频率，idf = log(语料库的文档总数/(包含词语word的文档数量+1))\n",
    "\n",
    "**Function**\n",
    "\n",
    "`jieba.analyse.extract_tags(sentence, topK=20, withWeight=False, allowPOS=())`\n",
    "```\n",
    "sentence 为待提取的文本\n",
    "topK 为返回几个 TF/IDF 权重最大的关键词，默认值为 20\n",
    "withWeight 为是否一并返回关键词权重值，默认值为 False\n",
    "allowPOS 仅包括指定词性的词，默认值为空，即不筛选\n",
    "```"
   ]
  },
  {
   "cell_type": "code",
   "execution_count": 84,
   "metadata": {},
   "outputs": [
    {
     "name": "stdout",
     "output_type": "stream",
     "text": [
      "TF-IDF\n",
      "反转 0.41\n",
      "A股 0.41\n",
      "50% 0.41\n",
      "起点 0.39\n",
      "季度 0.33\n"
     ]
    }
   ],
   "source": [
    "import numpy as np\n",
    "# from jieba.analyse import *\n",
    "import jieba.analyse as analyse\n",
    "\n",
    "with open('sample.txt', encoding='utf-8') as f:\n",
    "    data = f.read()\n",
    "    \n",
    "print('TF-IDF')\n",
    "for keyword, weight in analyse.extract_tags(data, topK=5, withWeight=True):\n",
    "    print('{} {}'.format(keyword, np.round(weight,2)))"
   ]
  },
  {
   "cell_type": "markdown",
   "metadata": {},
   "source": [
    "**基于 TextRank 算法的关键词提取**\n",
    "\n",
    "TextRank 是另一种关键词提取算法，基于大名鼎鼎的 PageRank，其原理可参见论文—— [TextRank: Bringing Order into Texts](http://web.eecs.umich.edu/~mihalcea/papers/mihalcea.emnlp04.pdf)\n",
    "\n",
    "`jieba.analyse.textrank(sentence, topK=20, withWeight=False, allowPOS=())`"
   ]
  },
  {
   "cell_type": "code",
   "execution_count": 83,
   "metadata": {},
   "outputs": [
    {
     "name": "stdout",
     "output_type": "stream",
     "text": [
      "TextRank\n",
      "银行 1.0\n",
      "起点 0.92\n",
      "反转 0.85\n",
      "处于 0.81\n",
      "季度 0.49\n"
     ]
    }
   ],
   "source": [
    "print('TextRank')\n",
    "for keyword, weight in analyse.textrank(data, topK=5, withWeight=True):\n",
    "    print('{} {}'.format(keyword, np.round(weight,2)))"
   ]
  },
  {
   "cell_type": "markdown",
   "metadata": {},
   "source": [
    "### SnowNLP\n",
    "\n",
    "SnowNLP是一个python写的类库，可以方便的处理中文文本内容，是受到了TextBlob的启发而写的，由于现在大部分的自然语言处理库基本都是针对英文的，于是写了一个方便处理中文的类库，并且和TextBlob不同的是，这里没有用NLTK，所有的算法都是自己实现的，并且自带了一些训练好的字典。由于该程序都是处理的unicode编码，所以使用时请自行decode成unicode。\n",
    "\n",
    "具体参见https://github.com/isnowfy/snownlp\n",
    "\n",
    "安装：`pip install snownlp`\n",
    "\n",
    "使用：\n",
    "\n",
    "`from snownlp import SnowNLP`\n",
    "\n",
    "`s = SnowNLP(text)`\n",
    "```\n",
    "s.words         分词\n",
    "s.tags          词性标注\n",
    "s.sentiments    positive的概率\n",
    "s.sentences     分割句子\n",
    "s.keywords()    关键词\n",
    "s.summary()     摘要\n",
    "```"
   ]
  },
  {
   "cell_type": "code",
   "execution_count": 4,
   "metadata": {},
   "outputs": [],
   "source": [
    "from snownlp import SnowNLP\n",
    "\n",
    "text1 = '中石化真心棒，我赚了好多钱'\n",
    "text2 = '这个股票简直烂到爆'\n",
    "\n",
    "s1 = SnowNLP(text1)\n",
    "s2 = SnowNLP(text2)"
   ]
  },
  {
   "cell_type": "code",
   "execution_count": 5,
   "metadata": {},
   "outputs": [
    {
     "name": "stdout",
     "output_type": "stream",
     "text": [
      "中石化真心棒，我赚了好多钱 0.7961687156385213\n",
      "这个股票简直烂到爆 0.024879725715451606\n"
     ]
    }
   ],
   "source": [
    "print(text1, SnowNLP(text1).sentiments)\n",
    "print(text2, SnowNLP(text2).sentiments)"
   ]
  },
  {
   "cell_type": "code",
   "execution_count": 26,
   "metadata": {},
   "outputs": [
    {
     "name": "stdout",
     "output_type": "stream",
     "text": [
      "TextRank with jieba:\n",
      "生物 1.0\n",
      "提出 0.82\n",
      "投资人 0.78\n",
      "公司 0.59\n",
      "管理层 0.57\n",
      "相信 0.52\n",
      "感情 0.52\n",
      "应该 0.44\n",
      "产品 0.4\n",
      "上市 0.39\n",
      "Keywords with snownlp:\n",
      "['泽润', '卖', '生物', '还', '投资人', '沃森', '管理层', '提出', '公司', '日']\n",
      "Summary with snownlp:\n",
      "['”“你们是主动卖泽润的还是泽润管理层逼迫你们卖的', '在“沃森生物转让泽润生物股权”的电话会上', '公司管理层的回答则是——“我们主动卖的']\n",
      "情感评分（0.6以上为积极，0.2以下为负面）： 0.09\n",
      "Sentence Sentiment with snownlp:\n",
      "12月5日14时30分 0.02\n",
      "在“沃森生物转让泽润生物股权”的电话会上 0.9\n",
      "沃森生物董事长李云春遭投资人猛烈炮轰 0.87\n",
      "除了质疑贱卖子公司 0.18\n",
      "投资人还提出公司应该停牌 0.36\n",
      "甚至提出向监管层举报 0.74\n",
      "“你们把我们这些炒股票的当傻子吗 0.36\n",
      "你看看万泰生物值多少钱 0.6\n",
      "你竟然卖的那么低 0.09\n",
      "你们这些人不相信因果报应吗 0.35\n",
      "”“你们是主动卖泽润的还是泽润管理层逼迫你们卖的 0.55\n",
      "”“泽润产品马上上市了 0.6\n",
      "可以自己造血了 0.75\n",
      "为什么要卖 0.39\n",
      "”对此 0.53\n",
      "公司管理层的回答则是——“我们主动卖的 0.03\n",
      "我们是专业的 0.6\n",
      "我们是对沃森倾注了感情的 0.78\n",
      "请相信我们” 0.29\n"
     ]
    }
   ],
   "source": [
    "import numpy as np\n",
    "import jieba.analyse as analyse\n",
    "from snownlp import SnowNLP\n",
    "\n",
    "text = '12月5日14时30分，在“沃森生物转让泽润生物股权”的电话会上，沃森生物董事长李云春遭投资人猛烈炮轰。除了质疑贱卖子公司，投资人还提出公司应该停牌，甚至提出向监管层举报。“你们把我们这些炒股票的当傻子吗？你看看万泰生物值多少钱，你竟然卖的那么低！你们这些人不相信因果报应吗？”“你们是主动卖泽润的还是泽润管理层逼迫你们卖的？”“泽润产品马上上市了，可以自己造血了，为什么要卖？”对此，公司管理层的回答则是——“我们主动卖的，我们是专业的，我们是对沃森倾注了感情的，请相信我们”。'\n",
    "\n",
    "## 使用jieba提取关键词\n",
    "print('TextRank with jieba:')\n",
    "for keyword, weight in analyse.textrank(text, topK=10, withWeight=True):\n",
    "    print('{} {}'.format(keyword, np.round(weight,2)))\n",
    "\n",
    "## 关键词\n",
    "print('Keywords with snownlp:')\n",
    "print(SnowNLP(text).keywords(10))\n",
    "\n",
    "## 摘要\n",
    "print('Summary with snownlp:')\n",
    "print(SnowNLP(text).summary(3))\n",
    "\n",
    "## 对整个文本进行情感分析\n",
    "s = SnowNLP(text)\n",
    "print(\"情感评分（0.6以上为积极，0.2以下为负面）：\", np.round(SnowNLP(text).sentiments,2))\n",
    "\n",
    "## 对单个句子进行情感分析\n",
    "print('Sentence Sentiment with snownlp:')\n",
    "for sentence in SnowNLP(text).sentences:\n",
    "    print(sentence, round(SnowNLP(sentence).sentiments,2))"
   ]
  },
  {
   "cell_type": "markdown",
   "metadata": {},
   "source": [
    "**Exercise：**\n",
    "\n",
    "从下述url中提取新闻标题信息，并计算每个标题的情感评分。并将新闻标题和情感评分的结果均保存至dataframe中。"
   ]
  },
  {
   "cell_type": "code",
   "execution_count": 24,
   "metadata": {
    "scrolled": true
   },
   "outputs": [
    {
     "data": {
      "text/html": [
       "<div>\n",
       "<style scoped>\n",
       "    .dataframe tbody tr th:only-of-type {\n",
       "        vertical-align: middle;\n",
       "    }\n",
       "\n",
       "    .dataframe tbody tr th {\n",
       "        vertical-align: top;\n",
       "    }\n",
       "\n",
       "    .dataframe thead th {\n",
       "        text-align: right;\n",
       "    }\n",
       "</style>\n",
       "<table border=\"1\" class=\"dataframe\">\n",
       "  <thead>\n",
       "    <tr style=\"text-align: right;\">\n",
       "      <th></th>\n",
       "      <th>news</th>\n",
       "      <th>sentiments</th>\n",
       "    </tr>\n",
       "  </thead>\n",
       "  <tbody>\n",
       "    <tr>\n",
       "      <th>0</th>\n",
       "      <td>新冠疫苗接连传利好 概念股机会又来了（附股）</td>\n",
       "      <td>0.761771</td>\n",
       "    </tr>\n",
       "    <tr>\n",
       "      <th>1</th>\n",
       "      <td>机构看涨这些股：上涨空间最高还有120%（附名单）</td>\n",
       "      <td>0.032810</td>\n",
       "    </tr>\n",
       "    <tr>\n",
       "      <th>2</th>\n",
       "      <td>三星也不送充电头了？快充产业或成最大赢家：关注产业链公司</td>\n",
       "      <td>0.680622</td>\n",
       "    </tr>\n",
       "    <tr>\n",
       "      <th>3</th>\n",
       "      <td>2020年12月10日涨停板早知道：七大利好有望发酵</td>\n",
       "      <td>0.621802</td>\n",
       "    </tr>\n",
       "    <tr>\n",
       "      <th>4</th>\n",
       "      <td>铜箔价格持续上涨 相关公司有望受益（附股）</td>\n",
       "      <td>0.257816</td>\n",
       "    </tr>\n",
       "    <tr>\n",
       "      <th>5</th>\n",
       "      <td>2022年苹果或配备潜望式长焦镜头 关注行业龙头机会</td>\n",
       "      <td>0.976800</td>\n",
       "    </tr>\n",
       "    <tr>\n",
       "      <th>6</th>\n",
       "      <td>经济复苏加冬季采暖：煤价持续上行 板块或迎历史性配置机遇(股)</td>\n",
       "      <td>0.964107</td>\n",
       "    </tr>\n",
       "    <tr>\n",
       "      <th>7</th>\n",
       "      <td>2020年12月9日涨停板早知道：七大利好有望发酵</td>\n",
       "      <td>0.589454</td>\n",
       "    </tr>\n",
       "    <tr>\n",
       "      <th>8</th>\n",
       "      <td>锂电板块火了：数只个股涨停 机构建议关注3个方面(附股)</td>\n",
       "      <td>0.164131</td>\n",
       "    </tr>\n",
       "    <tr>\n",
       "      <th>9</th>\n",
       "      <td>Mini-LED即将进入商用元年 产业链相关公司将受益(附股)</td>\n",
       "      <td>0.903908</td>\n",
       "    </tr>\n",
       "    <tr>\n",
       "      <th>10</th>\n",
       "      <td>军工行业发展有望迎来黄金时代 机构建议布局板块跨年行情(股)</td>\n",
       "      <td>0.898490</td>\n",
       "    </tr>\n",
       "    <tr>\n",
       "      <th>11</th>\n",
       "      <td>抢装潮带热光伏组件行情：史上最大扩产季到来 两条主线布局</td>\n",
       "      <td>0.995237</td>\n",
       "    </tr>\n",
       "    <tr>\n",
       "      <th>12</th>\n",
       "      <td>汽车芯片价格上涨或延续 汽车零部件自主可控将是发展方向(附股)</td>\n",
       "      <td>0.966787</td>\n",
       "    </tr>\n",
       "    <tr>\n",
       "      <th>13</th>\n",
       "      <td>苹果或加入潜望式镜头阵营 手机光学创新风声再起</td>\n",
       "      <td>0.971657</td>\n",
       "    </tr>\n",
       "    <tr>\n",
       "      <th>14</th>\n",
       "      <td>汽车行业遇“缺芯”：国产芯片的机会来了(附股)</td>\n",
       "      <td>0.653160</td>\n",
       "    </tr>\n",
       "    <tr>\n",
       "      <th>15</th>\n",
       "      <td>黑色系主力期货再创新高：监管紧急启动 价格顶部正在形成(附股)</td>\n",
       "      <td>0.096240</td>\n",
       "    </tr>\n",
       "    <tr>\n",
       "      <th>16</th>\n",
       "      <td>2020年12月8日涨停板早知道：七大利好有望发酵</td>\n",
       "      <td>0.715160</td>\n",
       "    </tr>\n",
       "    <tr>\n",
       "      <th>17</th>\n",
       "      <td>超高清产业迎重磅：市场规模或达万亿 如何布局超级蓝海？(股)</td>\n",
       "      <td>0.994326</td>\n",
       "    </tr>\n",
       "    <tr>\n",
       "      <th>18</th>\n",
       "      <td>基本面支撑力强叠加旺季临近值得期待 机构坚定推荐白酒行业(股)</td>\n",
       "      <td>0.925002</td>\n",
       "    </tr>\n",
       "    <tr>\n",
       "      <th>19</th>\n",
       "      <td>煤炭指数连续2期全面上涨 机构建议四维度布局煤炭板块(附股)</td>\n",
       "      <td>0.079774</td>\n",
       "    </tr>\n",
       "    <tr>\n",
       "      <th>20</th>\n",
       "      <td>焦炭第八轮提涨落地 市场有望继续向好（附股）</td>\n",
       "      <td>0.440997</td>\n",
       "    </tr>\n",
       "    <tr>\n",
       "      <th>21</th>\n",
       "      <td>2020年12月7日涨停板早知道：七大利好有望发酵</td>\n",
       "      <td>0.713557</td>\n",
       "    </tr>\n",
       "    <tr>\n",
       "      <th>22</th>\n",
       "      <td>“十四五”规划推出在即：国产替代迎加速 智能机器人站上风口</td>\n",
       "      <td>0.292492</td>\n",
       "    </tr>\n",
       "    <tr>\n",
       "      <th>23</th>\n",
       "      <td>商务部支持集装箱制造企业扩大产能 相关公司望获益(附股)</td>\n",
       "      <td>0.871751</td>\n",
       "    </tr>\n",
       "    <tr>\n",
       "      <th>24</th>\n",
       "      <td>又一行业涨价了：这次轮到PCB 景气度或延续至明年一季度(附股)</td>\n",
       "      <td>0.993395</td>\n",
       "    </tr>\n",
       "    <tr>\n",
       "      <th>25</th>\n",
       "      <td>2020年12月4日涨停板早知道：七大利好有望发酵</td>\n",
       "      <td>0.678260</td>\n",
       "    </tr>\n",
       "    <tr>\n",
       "      <th>26</th>\n",
       "      <td>2020年12月3日涨停板早知道：七大利好有望发酵</td>\n",
       "      <td>0.659060</td>\n",
       "    </tr>\n",
       "    <tr>\n",
       "      <th>27</th>\n",
       "      <td>2020年12月2日涨停板早知道：七大利好有望发酵</td>\n",
       "      <td>0.598748</td>\n",
       "    </tr>\n",
       "    <tr>\n",
       "      <th>28</th>\n",
       "      <td>12月金股出炉：大金融获强推 顺周期空间仍有余量（名单）</td>\n",
       "      <td>0.644080</td>\n",
       "    </tr>\n",
       "    <tr>\n",
       "      <th>29</th>\n",
       "      <td>天空才是极限：比特币创历史新高 概念股名单奉上</td>\n",
       "      <td>0.259305</td>\n",
       "    </tr>\n",
       "    <tr>\n",
       "      <th>30</th>\n",
       "      <td>11月券商金股收益放榜：最牛股暴涨近60% 12月名单奉上</td>\n",
       "      <td>0.007122</td>\n",
       "    </tr>\n",
       "    <tr>\n",
       "      <th>31</th>\n",
       "      <td>2020年12月1日涨停板早知道：七大利好有望发酵</td>\n",
       "      <td>0.594757</td>\n",
       "    </tr>\n",
       "    <tr>\n",
       "      <th>32</th>\n",
       "      <td>碳排放减少迫在眉睫 关注赛道稀缺龙头（附股）</td>\n",
       "      <td>0.347483</td>\n",
       "    </tr>\n",
       "    <tr>\n",
       "      <th>33</th>\n",
       "      <td>后疫情时期，高瓴资本赛道配置：继续重仓电商 加仓云计算领域</td>\n",
       "      <td>0.999990</td>\n",
       "    </tr>\n",
       "    <tr>\n",
       "      <th>34</th>\n",
       "      <td>2020年11月30日涨停板早知道：七大利好有望发酵</td>\n",
       "      <td>0.612599</td>\n",
       "    </tr>\n",
       "    <tr>\n",
       "      <th>35</th>\n",
       "      <td>2020年11月27日涨停板早知道：七大利好有望发酵</td>\n",
       "      <td>0.582831</td>\n",
       "    </tr>\n",
       "    <tr>\n",
       "      <th>36</th>\n",
       "      <td>世界5G大会举行：行业迎多重利好 投资机会有哪些？</td>\n",
       "      <td>0.990744</td>\n",
       "    </tr>\n",
       "    <tr>\n",
       "      <th>37</th>\n",
       "      <td>2020年11月26日涨停板早知道：七大利好有望发酵</td>\n",
       "      <td>0.570923</td>\n",
       "    </tr>\n",
       "    <tr>\n",
       "      <th>38</th>\n",
       "      <td>稀土价格持续上涨 相关公司或受关注（附股）</td>\n",
       "      <td>0.185043</td>\n",
       "    </tr>\n",
       "    <tr>\n",
       "      <th>39</th>\n",
       "      <td>成功挤掉苹果：小米手机全球销量挺进前三 背后有这些供应商</td>\n",
       "      <td>0.868777</td>\n",
       "    </tr>\n",
       "    <tr>\n",
       "      <th>40</th>\n",
       "      <td>2020年11月25日涨停板早知道：七大利好有望发酵</td>\n",
       "      <td>0.634730</td>\n",
       "    </tr>\n",
       "    <tr>\n",
       "      <th>41</th>\n",
       "      <td>特钢长牛时代来临？相关概念股持续走强</td>\n",
       "      <td>0.991833</td>\n",
       "    </tr>\n",
       "    <tr>\n",
       "      <th>42</th>\n",
       "      <td>2020年11月24日涨停板早知道：七大利好有望发酵</td>\n",
       "      <td>0.633205</td>\n",
       "    </tr>\n",
       "    <tr>\n",
       "      <th>43</th>\n",
       "      <td>年底冲关又看券商？11只券商股被坚定看好</td>\n",
       "      <td>0.037789</td>\n",
       "    </tr>\n",
       "    <tr>\n",
       "      <th>44</th>\n",
       "      <td>小电车蕴含大市场 机构称未来三年单车产量复合增长率将超30%(股)</td>\n",
       "      <td>0.987369</td>\n",
       "    </tr>\n",
       "  </tbody>\n",
       "</table>\n",
       "</div>"
      ],
      "text/plain": [
       "                                 news  sentiments\n",
       "0              新冠疫苗接连传利好 概念股机会又来了（附股）    0.761771\n",
       "1           机构看涨这些股：上涨空间最高还有120%（附名单）    0.032810\n",
       "2        三星也不送充电头了？快充产业或成最大赢家：关注产业链公司    0.680622\n",
       "3          2020年12月10日涨停板早知道：七大利好有望发酵    0.621802\n",
       "4               铜箔价格持续上涨 相关公司有望受益（附股）    0.257816\n",
       "5          2022年苹果或配备潜望式长焦镜头 关注行业龙头机会    0.976800\n",
       "6     经济复苏加冬季采暖：煤价持续上行 板块或迎历史性配置机遇(股)    0.964107\n",
       "7           2020年12月9日涨停板早知道：七大利好有望发酵    0.589454\n",
       "8        锂电板块火了：数只个股涨停 机构建议关注3个方面(附股)    0.164131\n",
       "9     Mini-LED即将进入商用元年 产业链相关公司将受益(附股)    0.903908\n",
       "10     军工行业发展有望迎来黄金时代 机构建议布局板块跨年行情(股)    0.898490\n",
       "11       抢装潮带热光伏组件行情：史上最大扩产季到来 两条主线布局    0.995237\n",
       "12    汽车芯片价格上涨或延续 汽车零部件自主可控将是发展方向(附股)    0.966787\n",
       "13            苹果或加入潜望式镜头阵营 手机光学创新风声再起    0.971657\n",
       "14            汽车行业遇“缺芯”：国产芯片的机会来了(附股)    0.653160\n",
       "15    黑色系主力期货再创新高：监管紧急启动 价格顶部正在形成(附股)    0.096240\n",
       "16          2020年12月8日涨停板早知道：七大利好有望发酵    0.715160\n",
       "17     超高清产业迎重磅：市场规模或达万亿 如何布局超级蓝海？(股)    0.994326\n",
       "18    基本面支撑力强叠加旺季临近值得期待 机构坚定推荐白酒行业(股)    0.925002\n",
       "19     煤炭指数连续2期全面上涨 机构建议四维度布局煤炭板块(附股)    0.079774\n",
       "20             焦炭第八轮提涨落地 市场有望继续向好（附股）    0.440997\n",
       "21          2020年12月7日涨停板早知道：七大利好有望发酵    0.713557\n",
       "22      “十四五”规划推出在即：国产替代迎加速 智能机器人站上风口    0.292492\n",
       "23       商务部支持集装箱制造企业扩大产能 相关公司望获益(附股)    0.871751\n",
       "24   又一行业涨价了：这次轮到PCB 景气度或延续至明年一季度(附股)    0.993395\n",
       "25          2020年12月4日涨停板早知道：七大利好有望发酵    0.678260\n",
       "26          2020年12月3日涨停板早知道：七大利好有望发酵    0.659060\n",
       "27          2020年12月2日涨停板早知道：七大利好有望发酵    0.598748\n",
       "28       12月金股出炉：大金融获强推 顺周期空间仍有余量（名单）    0.644080\n",
       "29            天空才是极限：比特币创历史新高 概念股名单奉上    0.259305\n",
       "30      11月券商金股收益放榜：最牛股暴涨近60% 12月名单奉上    0.007122\n",
       "31          2020年12月1日涨停板早知道：七大利好有望发酵    0.594757\n",
       "32             碳排放减少迫在眉睫 关注赛道稀缺龙头（附股）    0.347483\n",
       "33      后疫情时期，高瓴资本赛道配置：继续重仓电商 加仓云计算领域    0.999990\n",
       "34         2020年11月30日涨停板早知道：七大利好有望发酵    0.612599\n",
       "35         2020年11月27日涨停板早知道：七大利好有望发酵    0.582831\n",
       "36          世界5G大会举行：行业迎多重利好 投资机会有哪些？    0.990744\n",
       "37         2020年11月26日涨停板早知道：七大利好有望发酵    0.570923\n",
       "38              稀土价格持续上涨 相关公司或受关注（附股）    0.185043\n",
       "39       成功挤掉苹果：小米手机全球销量挺进前三 背后有这些供应商    0.868777\n",
       "40         2020年11月25日涨停板早知道：七大利好有望发酵    0.634730\n",
       "41                 特钢长牛时代来临？相关概念股持续走强    0.991833\n",
       "42         2020年11月24日涨停板早知道：七大利好有望发酵    0.633205\n",
       "43               年底冲关又看券商？11只券商股被坚定看好    0.037789\n",
       "44  小电车蕴含大市场 机构称未来三年单车产量复合增长率将超30%(股)    0.987369"
      ]
     },
     "execution_count": 24,
     "metadata": {},
     "output_type": "execute_result"
    }
   ],
   "source": [
    "import requests\n",
    "from bs4 import  BeautifulSoup\n",
    "import re\n",
    "import numpy as np\n",
    "import pandas as pd\n",
    "\n",
    "def request_url(url):\n",
    "    user_agent = 'Mozilla/5.0 (Windows NT 10.0; Win64; x64) AppleWebKit/537.36 (KHTML, like Gecko) Chrome/59.0.3071.109 Safari/537.36'\n",
    "    headers = {'User-Agent': user_agent} \n",
    "    \n",
    "    res = requests.get(url,headers=headers)\n",
    "    res.encoding = 'utf-8'\n",
    "    return res.text\n",
    "\n",
    "url = 'https://finance.sina.com.cn/roll/index.d.html?cid=56588&page=1'\n",
    "\n",
    "## 利用BeautifulSoup解析网页\n",
    "\n",
    "## 利用find_all函数提取所需的新闻标题\n",
    "\n",
    "## 利用SnowNLP进行情感分析\n",
    "from snownlp import SnowNLP\n",
    "\n",
    "## 将结果保存至dataframe中\n",
    "df = pd.DataFrame({'news':  , 'sentiments' :  })\n",
    "df"
   ]
  },
  {
   "cell_type": "markdown",
   "metadata": {},
   "source": [
    "**Exercise:**\n",
    "\n",
    "补全下述代码：\n",
    "1. 读取本地的'sina_fin_news.csv'文件\n",
    "2. 计算了每个新闻的情感评分\n",
    "3. 计算每一天的情感评分的均值并按目标格式输出\n"
   ]
  },
  {
   "cell_type": "code",
   "execution_count": 115,
   "metadata": {},
   "outputs": [
    {
     "data": {
      "text/html": [
       "<div>\n",
       "<style scoped>\n",
       "    .dataframe tbody tr th:only-of-type {\n",
       "        vertical-align: middle;\n",
       "    }\n",
       "\n",
       "    .dataframe tbody tr th {\n",
       "        vertical-align: top;\n",
       "    }\n",
       "\n",
       "    .dataframe thead th {\n",
       "        text-align: right;\n",
       "    }\n",
       "</style>\n",
       "<table border=\"1\" class=\"dataframe\">\n",
       "  <thead>\n",
       "    <tr style=\"text-align: right;\">\n",
       "      <th></th>\n",
       "      <th>id</th>\n",
       "      <th>news</th>\n",
       "      <th>date</th>\n",
       "      <th>status</th>\n",
       "    </tr>\n",
       "  </thead>\n",
       "  <tbody>\n",
       "    <tr>\n",
       "      <th>0</th>\n",
       "      <td>99</td>\n",
       "      <td>英国4月零售物价指数年率+2.5%，预期+2.6%，前值+2.5%；月率+0.4%，预期+0...</td>\n",
       "      <td>2014/5/20</td>\n",
       "      <td>0.069470</td>\n",
       "    </tr>\n",
       "    <tr>\n",
       "      <th>1</th>\n",
       "      <td>98</td>\n",
       "      <td>英国4月核心CPI年率+2.0%，创2013年9月以来最大升幅，预期+1.8%，前值+1.6...</td>\n",
       "      <td>2014/5/20</td>\n",
       "      <td>0.795471</td>\n",
       "    </tr>\n",
       "    <tr>\n",
       "      <th>2</th>\n",
       "      <td>97</td>\n",
       "      <td>英国3月DCLG房价指数年率+8.0%，预期+9.6%，前值+9.1%。</td>\n",
       "      <td>2014/5/20</td>\n",
       "      <td>0.541969</td>\n",
       "    </tr>\n",
       "    <tr>\n",
       "      <th>3</th>\n",
       "      <td>96</td>\n",
       "      <td>英国4月生产者输入物价指数月率-1.1%，预期-0.2%，前值-0.4%；年率-5.5%，预...</td>\n",
       "      <td>2014/5/20</td>\n",
       "      <td>0.057408</td>\n",
       "    </tr>\n",
       "    <tr>\n",
       "      <th>4</th>\n",
       "      <td>95</td>\n",
       "      <td>据世界黄金协会最新黄金需求趋势报告，一季度金条金币需求同比重挫39%至283吨，为四年来最低水平。</td>\n",
       "      <td>2014/5/20</td>\n",
       "      <td>0.999945</td>\n",
       "    </tr>\n",
       "    <tr>\n",
       "      <th>...</th>\n",
       "      <td>...</td>\n",
       "      <td>...</td>\n",
       "      <td>...</td>\n",
       "      <td>...</td>\n",
       "    </tr>\n",
       "    <tr>\n",
       "      <th>995</th>\n",
       "      <td>4</td>\n",
       "      <td>在圣彼得堡国际经济论坛上，道达尔CEO马哲睿(christophe de Margerie)...</td>\n",
       "      <td>2014/5/25</td>\n",
       "      <td>0.823601</td>\n",
       "    </tr>\n",
       "    <tr>\n",
       "      <th>996</th>\n",
       "      <td>3</td>\n",
       "      <td>雷石东(Sumner Redstone)过去约一周中出售2.36亿美元维亚康姆(VIA)和C...</td>\n",
       "      <td>2014/5/25</td>\n",
       "      <td>0.675677</td>\n",
       "    </tr>\n",
       "    <tr>\n",
       "      <th>997</th>\n",
       "      <td>2</td>\n",
       "      <td>苹果谋求禁止销售三星9款较老机型。此前苹果(AAPL)在美赢得一桩诉讼，裁决认定三星侵犯苹果...</td>\n",
       "      <td>2014/5/25</td>\n",
       "      <td>0.999985</td>\n",
       "    </tr>\n",
       "    <tr>\n",
       "      <th>998</th>\n",
       "      <td>1</td>\n",
       "      <td>郑商所期货与衍生品部总监左宏亮25日在“第九届中国期货暨衍生品市场论坛”上表示，从目前的郑商...</td>\n",
       "      <td>2014/5/25</td>\n",
       "      <td>0.892710</td>\n",
       "    </tr>\n",
       "    <tr>\n",
       "      <th>999</th>\n",
       "      <td>0</td>\n",
       "      <td>中金所期货小组成员刘炜亮25日在“第九届中国期货暨衍生品市场论坛”上表示，做市商不是期权推出...</td>\n",
       "      <td>2014/5/25</td>\n",
       "      <td>0.606726</td>\n",
       "    </tr>\n",
       "  </tbody>\n",
       "</table>\n",
       "<p>1000 rows × 4 columns</p>\n",
       "</div>"
      ],
      "text/plain": [
       "     id                                               news       date  \\\n",
       "0    99  英国4月零售物价指数年率+2.5%，预期+2.6%，前值+2.5%；月率+0.4%，预期+0...  2014/5/20   \n",
       "1    98  英国4月核心CPI年率+2.0%，创2013年9月以来最大升幅，预期+1.8%，前值+1.6...  2014/5/20   \n",
       "2    97               英国3月DCLG房价指数年率+8.0%，预期+9.6%，前值+9.1%。  2014/5/20   \n",
       "3    96  英国4月生产者输入物价指数月率-1.1%，预期-0.2%，前值-0.4%；年率-5.5%，预...  2014/5/20   \n",
       "4    95  据世界黄金协会最新黄金需求趋势报告，一季度金条金币需求同比重挫39%至283吨，为四年来最低水平。  2014/5/20   \n",
       "..   ..                                                ...        ...   \n",
       "995   4  在圣彼得堡国际经济论坛上，道达尔CEO马哲睿(christophe de Margerie)...  2014/5/25   \n",
       "996   3  雷石东(Sumner Redstone)过去约一周中出售2.36亿美元维亚康姆(VIA)和C...  2014/5/25   \n",
       "997   2  苹果谋求禁止销售三星9款较老机型。此前苹果(AAPL)在美赢得一桩诉讼，裁决认定三星侵犯苹果...  2014/5/25   \n",
       "998   1  郑商所期货与衍生品部总监左宏亮25日在“第九届中国期货暨衍生品市场论坛”上表示，从目前的郑商...  2014/5/25   \n",
       "999   0  中金所期货小组成员刘炜亮25日在“第九届中国期货暨衍生品市场论坛”上表示，做市商不是期权推出...  2014/5/25   \n",
       "\n",
       "       status  \n",
       "0    0.069470  \n",
       "1    0.795471  \n",
       "2    0.541969  \n",
       "3    0.057408  \n",
       "4    0.999945  \n",
       "..        ...  \n",
       "995  0.823601  \n",
       "996  0.675677  \n",
       "997  0.999985  \n",
       "998  0.892710  \n",
       "999  0.606726  \n",
       "\n",
       "[1000 rows x 4 columns]"
      ]
     },
     "execution_count": 115,
     "metadata": {},
     "output_type": "execute_result"
    }
   ],
   "source": [
    "from snownlp import SnowNLP # 使用\n",
    "import pandas as pd\n",
    "\n",
    "sina_news = pd.read_csv('sina_fin_news.csv', encoding = 'ansi')\n",
    "sina_news['date'] = [x.split(' ')[0] for x in sina_news['date']]\n",
    "sina_news['status'] = \n",
    "sina_news"
   ]
  },
  {
   "cell_type": "code",
   "execution_count": 140,
   "metadata": {},
   "outputs": [
    {
     "data": {
      "text/html": [
       "<div>\n",
       "<style scoped>\n",
       "    .dataframe tbody tr th:only-of-type {\n",
       "        vertical-align: middle;\n",
       "    }\n",
       "\n",
       "    .dataframe tbody tr th {\n",
       "        vertical-align: top;\n",
       "    }\n",
       "\n",
       "    .dataframe thead th {\n",
       "        text-align: right;\n",
       "    }\n",
       "</style>\n",
       "<table border=\"1\" class=\"dataframe\">\n",
       "  <thead>\n",
       "    <tr style=\"text-align: right;\">\n",
       "      <th></th>\n",
       "      <th>status</th>\n",
       "      <th>three</th>\n",
       "    </tr>\n",
       "    <tr>\n",
       "      <th>date</th>\n",
       "      <th></th>\n",
       "      <th></th>\n",
       "    </tr>\n",
       "  </thead>\n",
       "  <tbody>\n",
       "    <tr>\n",
       "      <th>2014/5/20</th>\n",
       "      <td>0.571854</td>\n",
       "      <td>None</td>\n",
       "    </tr>\n",
       "    <tr>\n",
       "      <th>2014/5/21</th>\n",
       "      <td>0.651911</td>\n",
       "      <td>Pos</td>\n",
       "    </tr>\n",
       "    <tr>\n",
       "      <th>2014/5/22</th>\n",
       "      <td>0.614585</td>\n",
       "      <td>Pos</td>\n",
       "    </tr>\n",
       "    <tr>\n",
       "      <th>2014/5/23</th>\n",
       "      <td>0.656650</td>\n",
       "      <td>Pos</td>\n",
       "    </tr>\n",
       "    <tr>\n",
       "      <th>2014/5/24</th>\n",
       "      <td>0.735881</td>\n",
       "      <td>Pos</td>\n",
       "    </tr>\n",
       "    <tr>\n",
       "      <th>2014/5/25</th>\n",
       "      <td>0.788533</td>\n",
       "      <td>Pos</td>\n",
       "    </tr>\n",
       "  </tbody>\n",
       "</table>\n",
       "</div>"
      ],
      "text/plain": [
       "             status three\n",
       "date                     \n",
       "2014/5/20  0.571854  None\n",
       "2014/5/21  0.651911   Pos\n",
       "2014/5/22  0.614585   Pos\n",
       "2014/5/23  0.656650   Pos\n",
       "2014/5/24  0.735881   Pos\n",
       "2014/5/25  0.788533   Pos"
      ]
     },
     "execution_count": 140,
     "metadata": {},
     "output_type": "execute_result"
    }
   ],
   "source": [
    "## 补全下述代码令目标输出如下\n",
    "s_news = sina_news.groupby('date')\n",
    "s_news['three'] = ['Pos' if s_value > 0.6 else ('Neg' if s_value < 0.2 else 'None')]\n",
    "s_news"
   ]
  },
  {
   "cell_type": "code",
   "execution_count": 12,
   "metadata": {},
   "outputs": [
    {
     "data": {
      "text/plain": [
       "1.23"
      ]
     },
     "execution_count": 12,
     "metadata": {},
     "output_type": "execute_result"
    }
   ],
   "source": [
    "round(1.234353415, 2)"
   ]
  },
  {
   "cell_type": "markdown",
   "metadata": {},
   "source": [
    "小结：\n",
    "\n",
    "这一部分的重点为使用三个nlp工具包：百度lac/jieba/snownlp，实现分词/词性标注/实体识别/情感分析等功能。"
   ]
  },
  {
   "cell_type": "code",
   "execution_count": null,
   "metadata": {},
   "outputs": [],
   "source": []
  }
 ],
 "metadata": {
  "kernelspec": {
   "display_name": "Python 3",
   "language": "python",
   "name": "python3"
  },
  "language_info": {
   "codemirror_mode": {
    "name": "ipython",
    "version": 3
   },
   "file_extension": ".py",
   "mimetype": "text/x-python",
   "name": "python",
   "nbconvert_exporter": "python",
   "pygments_lexer": "ipython3",
   "version": "3.7.9"
  }
 },
 "nbformat": 4,
 "nbformat_minor": 4
}
