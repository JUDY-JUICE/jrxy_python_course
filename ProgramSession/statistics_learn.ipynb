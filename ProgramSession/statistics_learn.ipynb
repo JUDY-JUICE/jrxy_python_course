{
 "cells": [
  {
   "cell_type": "markdown",
   "metadata": {},
   "source": [
    "#### [Statistics analysis](https://www.scribbr.com/statistics/statistical-tests/)\n",
    "- [scipy.stats](https://docs.scipy.org/doc/scipy/reference/stats.html#statistical-tests)\n",
    "- [T检验](#t-test)  \n",
    "    单样本t检验和独立两样本t检验\n",
    "- [卡方检验](#chi-squared-test)\n",
    "\n",
    "#### [最小二乘法(OLS)](#ols)\n",
    "- statsmodels.formula.api\n",
    "\n",
    "#### Seaborn\n",
    "- [Visualizing linear relationships](https://www.cntofu.com/book/172/docs/6.md)  \n",
    "    regplot() and lmplot()"
   ]
  },
  {
   "cell_type": "markdown",
   "metadata": {},
   "source": [
    "<div id='t-test'></div>\n",
    "\n",
    "#### T test\n",
    "\n",
    ">A t-test is a statistical test that is used to compare the means of two groups. It is often used in hypothesis testing to determine whether a process or treatment actually has an effect on the population of interest, or whether two groups are different from one another.\n",
    "\n",
    "**When to use a t-test?**\n",
    "\n",
    "A t-test can only be used when comparing the means of two groups (a.k.a. pairwise comparison). If you want to compare more than two groups, or if you want to do multiple pairwise comparisons, use an ANOVA test or a post-hoc test.\n",
    "\n",
    "The t-test is a parametric test of difference, meaning that it makes the same assumptions about your data as other parametric tests. ***The t-test assumes your data:***\n",
    "- are independent\n",
    "- are (approximately) normally distributed.\n",
    "- have a similar amount of variance within each group being compared (a.k.a. homogeneity of variance)\n",
    "\n",
    "If your data do not fit these assumptions, you can try a nonparametric alternative to the t-test, such as the Wilcoxon Signed-Rank test for data with unequal variances.\n",
    "\n",
    "**What type of t-test should I use?**  \n",
    "(One-sample, two-sample, or paired t-test)\n",
    "- If the groups come from a single population (e.g. measuring before and after an experimental treatment), perform a ***paired t-test***.\n",
    "- If the groups come from two different populations (e.g. two different species, or people from two separate cities), perform a ***two-sample t-test*** (a.k.a. independent t-test).\n",
    "- If there is one group being compared against a standard value (e.g. comparing the acidity of a liquid to a neutral pH of 7), perform a ***one-sample t-test***.\n"
   ]
  },
  {
   "cell_type": "markdown",
   "metadata": {},
   "source": [
    "t检验（t test）又称学生t检验（Student t-test）可以说是统计推断中非常常见的一种检验方法，用于统计量服从正态分布，但方差未知的情况。有关t检验的历史（以及学生t检验的由来）可以参考[维基百科](https://en.wikipedia.org/wiki/Student's_t-test#History)。\n",
    "\n",
    "t检验的前提是要求样本服从正态分布或近似正态分布。若不满足这一条件，则可以利用一些变换（取对数、开根号、倒数等等）试图将其转化为服从正态分布的数据。如若还是不满足正态分布，只能利用非参数检验方法。不过当样本量大于30的时候，可以认为数据近似正态分布。\n",
    "\n",
    "t检验最常见的四个用途：\n",
    "- 单样本均值检验（One-sample t-test）  \n",
    "    用于检验总体方差未知、正态数据或近似正态的单样本的均值是否与已知的总体均值相等\n",
    "- 独立两样本均值检验（Independent two-sample t-test）  \n",
    "    用于检验两组独立的正态数据或近似正态的样本的均值是否相等，这里可根据总体方差是否相等分类讨论\n",
    "- 配对样本均值检验（Dependent t-test for paired samples）  \n",
    "    用于检验一对配对样本的均值的差是否等于某一个值\n",
    "- 回归系数的显著性检验（t-test for regression coefficient significance）  \n",
    "    用于检验回归模型的解释变量对被解释变量是否有显著影响\n",
    "\n",
    "T检验的相关学习资料：\n",
    "- [方差分析、T检验、卡方分析如何区分](https://zhuanlan.zhihu.com/p/57756620)\n",
    "- [三种T检验的详细区分](https://zhuanlan.zhihu.com/p/68736699)\n",
    "- [一文详解t检验](https://zhuanlan.zhihu.com/p/138711532)"
   ]
  },
  {
   "cell_type": "markdown",
   "metadata": {},
   "source": [
    "#### Performing a t-test\n",
    "\n",
    "**单样本T检验**：\n",
    "\n",
    "检验原假设：样本均值无差异(μ=μ0)\n",
    "\n",
    "Python命令：`scipy.stats.ttest_1samp(a=Sample observation, popmean=Expected value in null hypothesis)`\n",
    "\n",
    "结果解释：当p值小于某个显著性水平α(比如0.05)时，则认为样本均值存在显著差异，具体的分析要看所选择的是双边假设还是单边假设（又分小于和大于）注意ttest_1samp进行双侧检验。"
   ]
  },
  {
   "cell_type": "code",
   "execution_count": 132,
   "metadata": {},
   "outputs": [
    {
     "data": {
      "text/plain": [
       "Ttest_1sampResult(statistic=0.5885885747784004, pvalue=0.5574778085960583)"
      ]
     },
     "execution_count": 132,
     "metadata": {},
     "output_type": "execute_result"
    }
   ],
   "source": [
    "import numpy as np\n",
    "import pandas as pd\n",
    "from scipy import stats\n",
    "\n",
    "# T test\n",
    "data = pd.DataFrame({'x': np.random.normal(size = 100)})\n",
    "stats.ttest_1samp(data['x'], 0)\n",
    "# if p-value < 0.05, we could reject H0"
   ]
  },
  {
   "cell_type": "code",
   "execution_count": 133,
   "metadata": {},
   "outputs": [
    {
     "data": {
      "text/plain": [
       "0.055950717471077056"
      ]
     },
     "execution_count": 133,
     "metadata": {},
     "output_type": "execute_result"
    }
   ],
   "source": [
    "data['x'].mean()"
   ]
  },
  {
   "cell_type": "code",
   "execution_count": 134,
   "metadata": {},
   "outputs": [
    {
     "data": {
      "text/plain": [
       "array([[<AxesSubplot:title={'center':'x'}>]], dtype=object)"
      ]
     },
     "execution_count": 134,
     "metadata": {},
     "output_type": "execute_result"
    },
    {
     "data": {
      "image/png": "[encoded data removed]",
      "text/plain": [
       "<Figure size 432x288 with 1 Axes>"
      ]
     },
     "metadata": {},
     "output_type": "display_data"
    }
   ],
   "source": [
    "# pd.DataFrame({'x': np.random.normal(size = 100)}).hist(bins = 50)\n",
    "data.hist(bins = 50)  ## 绘制直方图"
   ]
  },
  {
   "cell_type": "markdown",
   "metadata": {},
   "source": [
    "**独立两样本T检验**：\n",
    "\n",
    "两样本t检验是比较两个样本所代表的两个总体均值是否存在显著差异。\n",
    "\n",
    "检验原假设：样本均值无差异(μ=μ0)\n",
    "\n",
    "Python命令：`stats.ttest_ind(data1,data2)`"
   ]
  },
  {
   "cell_type": "code",
   "execution_count": 136,
   "metadata": {},
   "outputs": [
    {
     "data": {
      "text/plain": [
       "<AxesSubplot:>"
      ]
     },
     "execution_count": 136,
     "metadata": {},
     "output_type": "execute_result"
    },
    {
     "data": {
      "image/png": "[encoded data removed]",
      "text/plain": [
       "<Figure size 432x288 with 1 Axes>"
      ]
     },
     "metadata": {},
     "output_type": "display_data"
    }
   ],
   "source": [
    "x1 = 5 + np.random.normal(size = 50)\n",
    "x2 = -5 + np.random.normal(size = 50)\n",
    "data['y'] = np.concatenate((x1, x2)) ## np.concatenate 连接两个数组\n",
    "data['y'].hist(bins = 50)"
   ]
  },
  {
   "cell_type": "code",
   "execution_count": 137,
   "metadata": {},
   "outputs": [
    {
     "data": {
      "text/plain": [
       "0.02115166912075966"
      ]
     },
     "execution_count": 137,
     "metadata": {},
     "output_type": "execute_result"
    }
   ],
   "source": [
    "data['y'].mean()"
   ]
  },
  {
   "cell_type": "code",
   "execution_count": 138,
   "metadata": {},
   "outputs": [
    {
     "data": {
      "text/plain": [
       "Ttest_1sampResult(statistic=0.04284676042819534, pvalue=0.965909987512011)"
      ]
     },
     "execution_count": 138,
     "metadata": {},
     "output_type": "execute_result"
    }
   ],
   "source": [
    "stats.ttest_1samp(data['y'], 0)"
   ]
  },
  {
   "cell_type": "markdown",
   "metadata": {},
   "source": [
    "两样本t检验除了要求样本来自正态分布，还要求两个样本的总体方差相等也就是“方差齐性”。  \n",
    "因此当不确定两总体方差是否相等时，应先利用levene检验`stats.levene(data1,data2)`检验两总体是否具有方差齐性。  \n",
    "\n",
    "如果返回结果的p值远大于0.05，那么我们认为两总体具有方差齐性。  \n",
    "如果两总体不具有方差齐性，则需要在ttest_ind()函数中加上参数equal_val并设定为False，即：`stats.ttest_ind(data1,data2,equal_var=False)`\n"
   ]
  },
  {
   "cell_type": "code",
   "execution_count": 139,
   "metadata": {},
   "outputs": [
    {
     "data": {
      "text/plain": [
       "LeveneResult(statistic=0.08423734123480506, pvalue=0.7722484173059848)"
      ]
     },
     "execution_count": 139,
     "metadata": {},
     "output_type": "execute_result"
    }
   ],
   "source": [
    "stats.levene(x1,x2)"
   ]
  },
  {
   "cell_type": "code",
   "execution_count": 140,
   "metadata": {},
   "outputs": [
    {
     "data": {
      "text/plain": [
       "Ttest_indResult(statistic=44.52697082908188, pvalue=7.830596640659706e-67)"
      ]
     },
     "execution_count": 140,
     "metadata": {},
     "output_type": "execute_result"
    }
   ],
   "source": [
    "stats.ttest_ind(x1,x2)\n",
    "# if p-value < 0.05, the H0 could be rejected, which means x1 is not equal to x2"
   ]
  },
  {
   "cell_type": "markdown",
   "metadata": {},
   "source": [
    "**配对T检验**\n",
    "\n",
    "配对样本均数T检验简称配对T检验(paired t test), 又称非独立两样本均数t检验，适用于配对设计计量资料均数的比较，其比较目的是检验**两相关样本**均数所代表的未知总体均数是否有差别。与独立样本T检验相比，配对样本T检验要求样本是配对的。两个样本的样本量要相同；样本先后的顺序是一一对应的。\n",
    "\n",
    "检验原假设：样本均值无差异(μ=μ0)\n",
    "\n",
    "Python命令：`stats.ttest_rel(data1,data2)`\n",
    "\n",
    "结果解释：当p值小于某个显著性水平α(比如0.05)时，则认为样本均值存在显著差异，具体的分析要看所选择的是双边假设还是单边假设（又分小于和大于）注意stats.ttest_rel进行双侧检验。"
   ]
  },
  {
   "cell_type": "code",
   "execution_count": 142,
   "metadata": {},
   "outputs": [
    {
     "data": {
      "text/plain": [
       "Ttest_relResult(statistic=-3.149034903041314, pvalue=0.009258094005021552)"
      ]
     },
     "execution_count": 142,
     "metadata": {},
     "output_type": "execute_result"
    }
   ],
   "source": [
    "from scipy import stats\n",
    "data1 = [23,20,18,29,43,35,32,40,29,26,24,26]\n",
    "data2 = [1000,1000,500,500,500,100,100,100,100,100,100,100]\n",
    "stats.ttest_rel(data1,data2)"
   ]
  },
  {
   "cell_type": "markdown",
   "metadata": {},
   "source": [
    "<div id='chi-squared-test'></div>\n",
    "\n",
    "#### Chi-Squared Test\n",
    "\n",
    ">卡方检验（Chi-Squared Test）是一种统计量的分布在零假设成立时近似服从卡方分布的假设检验。在没有其他的限定条件或说明时，卡方检验一般指代的是皮尔森卡方检验。在卡方检验的一般运用中，研究人员将观察量的值划分成若干互斥的分类，并且使用一套理论（或零假设）尝试去说明观察量的值落入不同分类的概率分布的模型。而卡方检验的目的就在于去衡量这个假设对观察结果所反映的程度。\n",
    "\n",
    "    注意：卡方检验仅针对分类变量\n",
    "\n",
    "**卡方分布：** 若$n$个相互独立的随机变量，均服从标准正态分布，则这$n$个服从标准正态分布的随机变量的平方和构成一新的随机变量，其分布规律称为卡方分布$X^2$\n",
    "\n",
    "**皮尔森卡方检验：**  \n",
    "皮尔森卡方检验可用于两种情境的变项比较：***拟合优度检验***和***独立性检验***。\n",
    "- 拟合优度检验(Goodness of Fit test)：验证一组观察值的次数分配是否异于理论上的分配。  \n",
    "- 独立性检验：验证从两个变量抽出的配对观察值组是否互相独立。\n",
    "\n",
    "卡方检验的三个步骤：\n",
    "- 计算卡方检验的统计值：把每一个观察值和理论值的差做平方后、除以理论值、再加总。\n",
    "- 计算统计值的自由度。\n",
    "- 依据研究者设定的置信水平（显著性水平、P值或对应Alpah值），推论能否拒绝零假设。\n",
    "\n",
    "卡方检验的相关学习资料：\n",
    "- [卡方检验（Chi-Squared Test）](https://zhuanlan.zhihu.com/p/56423752)\n",
    "- [卡方检验、T检验+F检验、方差分析、Z检验](https://www.jianshu.com/p/8b7b401881d7)\n",
    "- [卡方检验](https://zh.wikipedia.org/wiki/%E5%8D%A1%E6%96%B9%E6%A3%80%E9%AA%8C)\n"
   ]
  },
  {
   "cell_type": "markdown",
   "metadata": {},
   "source": [
    "Python命令：\n",
    "- 拟合优度检验：`stats.chisquare(f_obs = Observed frequencies in each category, f_exp = Expected frequencies in each category)`  \n",
    "- 独立性检验：`stats.chi2_contingency(observed = The contingency table)`\n",
    "\n",
    "检验原假设：观察频数与期望频数无显著差异  \n",
    "结果解释：当p值小于某个显著性水平α(比如0.05)时，则拒绝原假设，认为两个样本有显著差异。"
   ]
  },
  {
   "cell_type": "markdown",
   "metadata": {},
   "source": [
    "**拟合优度检验举例**\n",
    "\n",
    "某科学家预言抛一个色子，各面向上的几率都相同。为了验证自己理论的正确性，该科学家抛了600次硬币，结果为一点102次，二点102次，三点96次，四点105次，五点95次，六点100次。显然这个结果和理论预期并不完全一样，那么，科学家的理论有错吗？"
   ]
  },
  {
   "cell_type": "code",
   "execution_count": 4,
   "metadata": {},
   "outputs": [
    {
     "data": {
      "text/plain": [
       "Power_divergenceResult(statistic=0.74, pvalue=0.980701472519648)"
      ]
     },
     "execution_count": 4,
     "metadata": {},
     "output_type": "execute_result"
    }
   ],
   "source": [
    "from scipy import stats\n",
    "\n",
    "obs = [102, 102, 96, 105, 95, 100]\n",
    "exp = [100, 100, 100, 100, 100, 100]\n",
    "stats.chisquare(obs, f_exp = exp)"
   ]
  },
  {
   "cell_type": "markdown",
   "metadata": {},
   "source": [
    "从结果来看，p值为0.98，可以认为观测到的值和预期值是相近的。科学家的理论没有错，观测值和理论值的不同是由偶然误差造成的。"
   ]
  },
  {
   "cell_type": "markdown",
   "metadata": {},
   "source": [
    "**独立性检验举例**\n",
    "\n",
    "从某中学随机抽取两个班，调查他们对待文理分科的态度，结果，甲班37人赞成，27人反对；乙班39人赞成，21人反对，这两个班对待文理分科的态度是否有显著差异(α= .05)?\n",
    "\n",
    "|   |  赞成   | 反对  |\n",
    "|--|  ----  | ----  |\n",
    "|甲班| 37  | 27 |\n",
    "|乙班| 39  | 21 |"
   ]
  },
  {
   "cell_type": "code",
   "execution_count": 13,
   "metadata": {},
   "outputs": [
    {
     "data": {
      "text/plain": [
       "(0.40538080226608214, 0.5243233881944427)"
      ]
     },
     "execution_count": 13,
     "metadata": {},
     "output_type": "execute_result"
    }
   ],
   "source": [
    "from scipy import stats\n",
    "import numpy as np\n",
    "\n",
    "kf_data = np.array([[37,27], [39,21]])\n",
    "g, p, dof, expctd = stats.chi2_contingency(kf_data)\n",
    "g, p"
   ]
  },
  {
   "cell_type": "markdown",
   "metadata": {},
   "source": [
    "结论: 因为p值=0.5243>0.05, 故接受原假设, 认为这两个班对待文理分科的态度无显著差别。"
   ]
  },
  {
   "cell_type": "markdown",
   "metadata": {},
   "source": [
    "<div id='ols'></div>\n",
    "\n",
    "#### 最小二乘法（least sqaure method）\n",
    "\n",
    "最小二乘法的主要思想是通过确定未知参数（通常是一个参数矩阵），来使得真实值和预测值的误差（也称残差）平方和最小：  \n",
    "已知 $目标函数 = \\sum(观测值-期望值)^2$，求 $min(目标函数)$\n",
    "\n",
    "参考资料：\n",
    "- [最小二乘法](https://zhuanlan.zhihu.com/p/38128785)\n",
    "- [OLS在python中的四种实现方式](https://zhuanlan.zhihu.com/p/35460377)"
   ]
  },
  {
   "cell_type": "markdown",
   "metadata": {},
   "source": [
    "**OLS应用举例：简单线性回归**\n",
    "\n",
    "给定两组观测值x和y，我们要检验以下假设：y是x的线性函数。换句话说：  \n",
    "$y = x * coef + intercept + e$  \n",
    "其中e是观察噪声。我们将使用statsmodels模块执行以下操作：\n",
    "1. 拟合线性模型。使用最简单的策略，即普通最小二乘法（OLS）。\n",
    "2. 测试coef不为零。\n",
    "\n",
    "首先，我们根据模型生成模拟数据："
   ]
  },
  {
   "cell_type": "code",
   "execution_count": 5,
   "metadata": {},
   "outputs": [],
   "source": [
    "import numpy as np\n",
    "import pandas as pd\n",
    "\n",
    "x = np.linspace(-5, 5, 20)\n",
    "np.random.seed(1)\n",
    "# normal distributed noise\n",
    "y = -5 + 3*x + 4 * np.random.normal(size=x.shape)\n",
    "# Create a data frame containing all the relevant variables\n",
    "data = pd.DataFrame({'x': x, 'y': y})"
   ]
  },
  {
   "cell_type": "markdown",
   "metadata": {},
   "source": [
    "然后我们指定一个OLS模型并拟合它："
   ]
  },
  {
   "cell_type": "code",
   "execution_count": 6,
   "metadata": {},
   "outputs": [],
   "source": [
    "from statsmodels.formula.api import ols\n",
    "\n",
    "model = ols(\"y ~ x\", data).fit()"
   ]
  },
  {
   "cell_type": "markdown",
   "metadata": {},
   "source": [
    "我们可以检查从拟合得出的各种统计信息："
   ]
  },
  {
   "cell_type": "code",
   "execution_count": 7,
   "metadata": {},
   "outputs": [
    {
     "name": "stdout",
     "output_type": "stream",
     "text": [
      "                            OLS Regression Results                            \n",
      "==============================================================================\n",
      "Dep. Variable:                      y   R-squared:                       0.804\n",
      "Model:                            OLS   Adj. R-squared:                  0.794\n",
      "Method:                 Least Squares   F-statistic:                     74.03\n",
      "Date:                Fri, 01 Jan 2021   Prob (F-statistic):           8.56e-08\n",
      "Time:                        21:50:09   Log-Likelihood:                -57.988\n",
      "No. Observations:                  20   AIC:                             120.0\n",
      "Df Residuals:                      18   BIC:                             122.0\n",
      "Df Model:                           1                                         \n",
      "Covariance Type:            nonrobust                                         \n",
      "==============================================================================\n",
      "                 coef    std err          t      P>|t|      [0.025      0.975]\n",
      "------------------------------------------------------------------------------\n",
      "Intercept     -5.5335      1.036     -5.342      0.000      -7.710      -3.357\n",
      "x              2.9369      0.341      8.604      0.000       2.220       3.654\n",
      "==============================================================================\n",
      "Omnibus:                        0.100   Durbin-Watson:                   2.956\n",
      "Prob(Omnibus):                  0.951   Jarque-Bera (JB):                0.322\n",
      "Skew:                          -0.058   Prob(JB):                        0.851\n",
      "Kurtosis:                       2.390   Cond. No.                         3.03\n",
      "==============================================================================\n",
      "\n",
      "Notes:\n",
      "[1] Standard Errors assume that the covariance matrix of the errors is correctly specified.\n"
     ]
    }
   ],
   "source": [
    "print(model.summary())"
   ]
  },
  {
   "cell_type": "markdown",
   "metadata": {},
   "source": [
    "表中coef列为拟合结果，可通过params属性输出"
   ]
  },
  {
   "cell_type": "code",
   "execution_count": 8,
   "metadata": {},
   "outputs": [
    {
     "name": "stdout",
     "output_type": "stream",
     "text": [
      "Intercept   -5.533459\n",
      "x            2.936888\n",
      "dtype: float64\n"
     ]
    }
   ],
   "source": [
    "print(model.params)"
   ]
  },
  {
   "cell_type": "code",
   "execution_count": 9,
   "metadata": {},
   "outputs": [
    {
     "data": {
      "text/plain": [
       "<AxesSubplot:xlabel='x', ylabel='y'>"
      ]
     },
     "execution_count": 9,
     "metadata": {},
     "output_type": "execute_result"
    },
    {
     "data": {
      "image/png": "[encoded data removed]",
      "text/plain": [
       "<Figure size 432x288 with 1 Axes>"
      ]
     },
     "metadata": {
      "needs_background": "light"
     },
     "output_type": "display_data"
    }
   ],
   "source": [
    "#### 根据dataframe绘制散点图\n",
    "\n",
    "from matplotlib.axes._axes import _log as matplotlib_axes_logger\n",
    "matplotlib_axes_logger.setLevel('ERROR') ## 设置日志仅显示error级别的通知\n",
    "\n",
    "# data['yf']=model.fittedvalues\n",
    "data[['x','y']].plot('x', 'y', kind = 'scatter') ## 绘制散点图"
   ]
  },
  {
   "cell_type": "code",
   "execution_count": 10,
   "metadata": {},
   "outputs": [
    {
     "data": {
      "text/plain": [
       "<AxesSubplot:xlabel='x', ylabel='y'>"
      ]
     },
     "execution_count": 10,
     "metadata": {},
     "output_type": "execute_result"
    },
    {
     "data": {
      "image/png": "[encoded data removed]",
      "text/plain": [
       "<Figure size 432x288 with 1 Axes>"
      ]
     },
     "metadata": {
      "needs_background": "light"
     },
     "output_type": "display_data"
    }
   ],
   "source": [
    "#### 线性关系的可视化\n",
    "import seaborn as sns\n",
    "\n",
    "# sns.lmplot(y='y', x='x', data=data)\n",
    "sns.regplot(y='y', x='x', data=data)"
   ]
  },
  {
   "cell_type": "markdown",
   "metadata": {},
   "source": [
    "考虑线性回归的如下形式：\n",
    "$$Y = \\beta X+ \\epsilon$$\n",
    "OLS对于普通最小二乘的估计为：\n",
    "$$\\beta = (X^TX)^{-1}X^TY$$\n",
    "\n",
    "**Exercise:**\n",
    "    阅读下面的代码，理解如何通过代码实现OLS。"
   ]
  },
  {
   "cell_type": "code",
   "execution_count": 68,
   "metadata": {},
   "outputs": [
    {
     "data": {
      "text/plain": [
       "{'b': array([-5.53345855,  2.93688832]),\n",
       " 'SSE': 21.46274053808336,\n",
       " 'SE': array([1.03592327, 0.34133857]),\n",
       " 't': array([-5.34157181,  8.60403296]),\n",
       " 'p': array([4.45960678e-05, 8.56064915e-08]),\n",
       " 'r2': 0.8044102939875739,\n",
       " 'r2adj': 0.7935441992091058,\n",
       " 'F': 74.02938317651765,\n",
       " 'Prob(F)': 8.560649156219569e-08}"
      ]
     },
     "execution_count": 68,
     "metadata": {},
     "output_type": "execute_result"
    }
   ],
   "source": [
    "import numpy as np\n",
    "import pandas as pd\n",
    "\n",
    "x = np.linspace(-5, 5, 20)\n",
    "np.random.seed(1)\n",
    "# normal distributed noise\n",
    "y = -5 + 3*x + 4 * np.random.normal(size=x.shape)\n",
    "\n",
    "#### 最小二乘法的代码实现\n",
    "def simple_ols(y,x):\n",
    "\n",
    "    x = np.c_[np.ones(x.shape[0]),x]\n",
    "    inv_xx = np.linalg.inv(np.dot(x.T,x))\n",
    "    b = np.dot(inv_xx, np.dot(x.T,y)) \n",
    "\n",
    "    nobs = y.shape[0]                     # number of observations\n",
    "    ncoef = x.shape[1]                    # number of coef.\n",
    "    df_e = nobs - ncoef              # degrees of freedom, error \n",
    "    df_r = ncoef - 1                      # degrees of freedom, regression \n",
    "\n",
    "    e = y - np.dot(x,b)            # residuals\n",
    "    sse = np.dot(e,e)/df_e         # Sum Squared Error，误差平方和\n",
    "    se = np.sqrt(np.diagonal(sse*inv_xx))  # coef. standard errors\n",
    "    \n",
    "    import scipy\n",
    "    \n",
    "    t = b / se                       # coef. t-statistics\n",
    "    p = (1-scipy.stats.t.cdf(abs(t), df_e)) * 2    # coef. p-values\n",
    "\n",
    "    R2 = 1 - e.var()/y.var()         # model R-squared\n",
    "    R2adj = 1-(1-R2)*((nobs-1)/(nobs-ncoef))   # adjusted R-square\n",
    "\n",
    "    F = (R2/df_r) / ((1-R2)/df_e)  # model F-statistic\n",
    "    Fpv = 1-scipy.stats.f.cdf(F, df_r, df_e)  # F-statistic p-value\n",
    "    res = {'b':b, 'SSE': sse, 'SE': se, 't':t, 'p':p, 'r2':R2, 'r2adj':R2adj, 'F':F, 'Prob(F)': Fpv}\n",
    "    return res\n",
    "\n",
    "\n",
    "b = simple_ols(y,x)\n",
    "b"
   ]
  },
  {
   "cell_type": "code",
   "execution_count": null,
   "metadata": {},
   "outputs": [],
   "source": []
  }
 ],
 "metadata": {
  "kernelspec": {
   "display_name": "Python 3",
   "language": "python",
   "name": "python3"
  },
  "language_info": {
   "codemirror_mode": {
    "name": "ipython",
    "version": 3
   },
   "file_extension": ".py",
   "mimetype": "text/x-python",
   "name": "python",
   "nbconvert_exporter": "python",
   "pygments_lexer": "ipython3",
   "version": "3.7.9"
  }
 },
 "nbformat": 4,
 "nbformat_minor": 4
}
