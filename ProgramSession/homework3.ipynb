{
 "cells": [
  {
   "cell_type": "markdown",
   "metadata": {},
   "source": [
    "#### 请于周日晚24：00之前以jupyter notebook的格式将作业提交至邮箱liyan_zjgsu@163.com\n",
    "\n",
    "- （格式要求：请大家将题目和对应的解答写在**jupyter notebook**中，并在代码中写明注释。作业和邮件标题命名方式为：学号_姓名_python_course）"
   ]
  },
  {
   "cell_type": "markdown",
   "metadata": {},
   "source": [
    "**Q1:**\n",
    "\n",
    "1. 下面是一个批量下载百度图片的例子，请通过修改num，下载更多的图片，将num作为循环变量的参数写入程序中。\n",
    "2. 当下载的图片很多时会发生各种错误，如何让程序稳定地运行？\n"
   ]
  },
  {
   "cell_type": "code",
   "execution_count": null,
   "metadata": {
    "jupyter": {
     "source_hidden": true
    }
   },
   "outputs": [],
   "source": [
    "import requests\n",
    "import re\n",
    "import os\n",
    "import time\n",
    "\n",
    "pathname = 'D:\\\\图片\\\\'\n",
    "if not os.path.exists(pathname):\n",
    "    os.makedirs(pathname)\n",
    "name = input('您要爬取的图片名称：')\n",
    "num = 1\n",
    "headers = {'User-Agent':'Mozilla/5.0 (Windows NT 10.0; Win64; x64) AppleWebKit/537.36 (KHTML, like Gecko) Chrome/84.0.4147.125 Safari/537.36'}\n",
    "url = 'https://image.baidu.com/search/flip?tn=baiduimage&ie=utf-8&word='+name+'&pn='+str((num-1)*60)\n",
    "res = requests.get(url,headers=headers)\n",
    "# print(res.request.url)\n",
    "\n",
    "html = res.content.decode()\n",
    "addlist = re.findall('\"objURL\":\"(.*?)\",',html)\n",
    "# print(len(addlist))\n",
    "# print(addlist)\n",
    "\n",
    "j=0\n",
    "for i in addlist:\n",
    "    j = j +1\n",
    "    img = requests.get(i)\n",
    "    f = open(pathname+name+str(j)+'.jpg','ab')\n",
    "    print('---------正在下载第'+str(j)+'张图片----------')\n",
    "    f.write(img.content)\n",
    "    f.close()\n",
    "print('下载完成')"
   ]
  },
  {
   "cell_type": "markdown",
   "metadata": {},
   "source": [
    "**Q2:**\n",
    "\n",
    "1. 获取下述url中的新闻标题，提取关键词并计算情感评分，url = 'https://finance.sina.com.cn/roll/index.d.html?cid=56588&page=1'\n",
    "2. 通过修改url中的page关键字批量获取多个页面的上述信息。\n",
    "3. 将结果保存在dataframe中输出。"
   ]
  },
  {
   "cell_type": "markdown",
   "metadata": {},
   "source": [
    "**Q3：**\n",
    "1. 从tushareAPI获取房地产行业的股票，并计算它们的收盘价收益率的的相关矩阵，日期为从去年到今年。\n",
    "2. 计算上述这些股票的夏普比率并按从大到小排序。\n",
    "3. 将夏普比率最大的股票价格与地产行业指数价格作线性回归，利用seaborn将结果可视化。"
   ]
  },
  {
   "cell_type": "markdown",
   "metadata": {},
   "source": [
    "**Q++:**\n",
    "- 编写MACD指标（macd指标的定义请自行百度，或参考课件Time Series Analysis中的这个练习：）\n",
    "    >**Exercise:**\n",
    "    >1. 从tushare获取000001.SZ这只股票今年的日行情数据。\n",
    "    >2. 绘制上述股票的12日指数滑动平均线(ema12)和26日指数滑动平均线(ema26)。\n",
    "    >3. 计算时间序列dif = ema12 - ema26，以及dif序列的9日指数滑动平均线，后者命名为dea。\n",
    "    >4. 绘制2x1的子图，子图1展示原始价格序列，子图2展示dif、dea以及macd=(dif-dea)x2。\n",
    "- 根据课件quant_learn中的海鬼交易策略的代码，绘制上述macd策略的净值曲线。\n",
    "- 计算上述净值曲线的最大回撤。"
   ]
  },
  {
   "cell_type": "code",
   "execution_count": null,
   "metadata": {},
   "outputs": [],
   "source": []
  }
 ],
 "metadata": {
  "kernelspec": {
   "display_name": "Python 3",
   "language": "python",
   "name": "python3"
  },
  "language_info": {
   "codemirror_mode": {
    "name": "ipython",
    "version": 3
   },
   "file_extension": ".py",
   "mimetype": "text/x-python",
   "name": "python",
   "nbconvert_exporter": "python",
   "pygments_lexer": "ipython3",
   "version": "3.7.9"
  }
 },
 "nbformat": 4,
 "nbformat_minor": 4
}
