{
 "cells": [
  {
   "cell_type": "markdown",
   "metadata": {},
   "source": [
    "#### 请于周日晚24：00之前以jupyter notebook的格式将作业提交至邮箱liyan_zjgsu@163.com\n",
    "\n",
    "- （格式要求：请大家将题目和对应的解答写在**jupyter notebook**中，并在代码中写明注释。作业和邮件标题命名方式为：学号_姓名_python_course）"
   ]
  },
  {
   "cell_type": "markdown",
   "metadata": {},
   "source": [
    "**Q1:**\n",
    "\n",
    "1. 下面是一个批量下载百度图片的例子，请通过修改num，下载更多的图片，将num作为循环变量的参数写入程序中。\n",
    "2. 当下载的图片很多时会发生各种错误，如何让程序稳定地运行？\n"
   ]
  },
  {
   "cell_type": "code",
   "execution_count": null,
   "metadata": {},
   "outputs": [],
   "source": [
    "import requests\n",
    "import re\n",
    "import os\n",
    "import time\n",
    "\n",
    "pathname = 'D:\\\\图片\\\\'\n",
    "if not os.path.exists(pathname):\n",
    "    os.makedirs(pathname)\n",
    "name = input('您要爬取的图片名称：')\n",
    "num = 1\n",
    "headers = {'User-Agent':'Mozilla/5.0 (Windows NT 10.0; Win64; x64) AppleWebKit/537.36 (KHTML, like Gecko) Chrome/84.0.4147.125 Safari/537.36'}\n",
    "url = 'https://image.baidu.com/search/flip?tn=baiduimage&ie=utf-8&word='+name+'&pn='+str((num-1)*60)\n",
    "res = requests.get(url,headers=headers)\n",
    "# print(res.request.url)\n",
    "\n",
    "html = res.content.decode()\n",
    "addlist = re.findall('\"objURL\":\"(.*?)\",',html)\n",
    "# print(len(addlist))\n",
    "# print(addlist)\n",
    "\n",
    "j=0\n",
    "for i in addlist:\n",
    "    j = j +1\n",
    "    img = requests.get(i)\n",
    "    f = open(pathname+name+str(j)+'.jpg','ab')\n",
    "    print('---------正在下载第'+str(j)+'张图片----------')\n",
    "    f.write(img.content)\n",
    "    f.close()\n",
    "print('下载完成')"
   ]
  },
  {
   "cell_type": "markdown",
   "metadata": {},
   "source": [
    "**Answer:**"
   ]
  },
  {
   "cell_type": "code",
   "execution_count": null,
   "metadata": {},
   "outputs": [],
   "source": [
    "import requests\n",
    "import re\n",
    "import os\n",
    "import time\n",
    "\n",
    "pathname = 'D:\\\\图片\\\\'\n",
    "if not os.path.exists(pathname):\n",
    "    os.makedirs(pathname)\n",
    "name = input('您要爬取的图片名称：')\n",
    "num = input('您要爬取图片数量?，输入1/2/3...等于60/120/180...张图片。')\n",
    "headers = {'User-Agent':'Mozilla/5.0 (Windows NT 10.0; Win64; x64) AppleWebKit/537.36 (KHTML, like Gecko) Chrome/84.0.4147.125 Safari/537.36'}\n",
    "\n",
    "count=0\n",
    "for j in range(int(num)):\n",
    "    url = 'https://image.baidu.com/search/flip?tn=baiduimage&ie=utf-8&word='+name+'&pn='+str(j*60)\n",
    "    res = requests.get(url,headers=headers)\n",
    "    # print(res.request.url)\n",
    "\n",
    "    html = res.content.decode()\n",
    "    addlist = re.findall('\"objURL\":\"(.*?)\",',html)\n",
    "    # print(len(addlist))\n",
    "    # print(addlist)\n",
    "\n",
    "    for i in addlist:\n",
    "        count = count +1\n",
    "        try:\n",
    "            img = requests.get(i)\n",
    "        except Exception:\n",
    "            print('第'+str(count)+'张图片无法下载------------')\n",
    "            continue\n",
    "        f = open(pathname+name+str(count)+'.jpg','ab')\n",
    "        print('---------正在下载第'+str(count)+'张图片----------')\n",
    "        f.write(img.content)\n",
    "        f.close()\n",
    "print('下载完成')"
   ]
  },
  {
   "cell_type": "markdown",
   "metadata": {},
   "source": [
    "**Q2:**\n",
    "\n",
    "1. 获取下述url中的新闻标题，提取关键词并计算情感评分，url = 'https://finance.sina.com.cn/roll/index.d.html?cid=56588&page=1'\n",
    "2. 通过修改url中的page关键字批量获取多个页面的上述信息。\n",
    "3. 将结果保存在dataframe中输出。"
   ]
  },
  {
   "cell_type": "markdown",
   "metadata": {},
   "source": [
    "**Answer:**"
   ]
  },
  {
   "cell_type": "code",
   "execution_count": 9,
   "metadata": {
    "scrolled": true
   },
   "outputs": [
    {
     "data": {
      "text/html": [
       "<div>\n",
       "<style scoped>\n",
       "    .dataframe tbody tr th:only-of-type {\n",
       "        vertical-align: middle;\n",
       "    }\n",
       "\n",
       "    .dataframe tbody tr th {\n",
       "        vertical-align: top;\n",
       "    }\n",
       "\n",
       "    .dataframe thead th {\n",
       "        text-align: right;\n",
       "    }\n",
       "</style>\n",
       "<table border=\"1\" class=\"dataframe\">\n",
       "  <thead>\n",
       "    <tr style=\"text-align: right;\">\n",
       "      <th></th>\n",
       "      <th>news</th>\n",
       "      <th>sentiments</th>\n",
       "    </tr>\n",
       "  </thead>\n",
       "  <tbody>\n",
       "    <tr>\n",
       "      <th>0</th>\n",
       "      <td>央行等6部委发布跨境人民币优化政策 产业迎来增量红利(附股)</td>\n",
       "      <td>0.352927</td>\n",
       "    </tr>\n",
       "    <tr>\n",
       "      <th>1</th>\n",
       "      <td>春节不打烊：2021快递业务量预超千亿件 相关板块或收益(附股)</td>\n",
       "      <td>0.078384</td>\n",
       "    </tr>\n",
       "    <tr>\n",
       "      <th>2</th>\n",
       "      <td>2021年1月5日涨停板早知道：七大利好有望发酵</td>\n",
       "      <td>0.717254</td>\n",
       "    </tr>\n",
       "    <tr>\n",
       "      <th>3</th>\n",
       "      <td>新能源汽车行业将维持高歌猛进态势 ModelY价格下调催化投资机会</td>\n",
       "      <td>0.961431</td>\n",
       "    </tr>\n",
       "    <tr>\n",
       "      <th>4</th>\n",
       "      <td>新能源汽车动力电池回收利用或提速 关注相关个股(附股)</td>\n",
       "      <td>0.022063</td>\n",
       "    </tr>\n",
       "    <tr>\n",
       "      <th>...</th>\n",
       "      <td>...</td>\n",
       "      <td>...</td>\n",
       "    </tr>\n",
       "    <tr>\n",
       "      <th>895</th>\n",
       "      <td>国盛策略：科技成长二次进攻号角吹响 重点看好2方向</td>\n",
       "      <td>0.991865</td>\n",
       "    </tr>\n",
       "    <tr>\n",
       "      <th>896</th>\n",
       "      <td>券商外资股比限制将取消 百余家内地券商如何突围(股)</td>\n",
       "      <td>0.203286</td>\n",
       "    </tr>\n",
       "    <tr>\n",
       "      <th>897</th>\n",
       "      <td>华泰证券：重卡行业发展趋势呈现积极变化 关注2只股</td>\n",
       "      <td>0.992991</td>\n",
       "    </tr>\n",
       "    <tr>\n",
       "      <th>898</th>\n",
       "      <td>申万宏源：疫情冲击下小家电需求侧亮点颇多 推荐3股</td>\n",
       "      <td>0.637827</td>\n",
       "    </tr>\n",
       "    <tr>\n",
       "      <th>899</th>\n",
       "      <td>渤海证券：维持新能源电池行业“看好”评级 推荐5股</td>\n",
       "      <td>0.009702</td>\n",
       "    </tr>\n",
       "  </tbody>\n",
       "</table>\n",
       "<p>900 rows × 2 columns</p>\n",
       "</div>"
      ],
      "text/plain": [
       "                                  news  sentiments\n",
       "0       央行等6部委发布跨境人民币优化政策 产业迎来增量红利(附股)    0.352927\n",
       "1     春节不打烊：2021快递业务量预超千亿件 相关板块或收益(附股)    0.078384\n",
       "2             2021年1月5日涨停板早知道：七大利好有望发酵    0.717254\n",
       "3    新能源汽车行业将维持高歌猛进态势 ModelY价格下调催化投资机会    0.961431\n",
       "4          新能源汽车动力电池回收利用或提速 关注相关个股(附股)    0.022063\n",
       "..                                 ...         ...\n",
       "895          国盛策略：科技成长二次进攻号角吹响 重点看好2方向    0.991865\n",
       "896         券商外资股比限制将取消 百余家内地券商如何突围(股)    0.203286\n",
       "897          华泰证券：重卡行业发展趋势呈现积极变化 关注2只股    0.992991\n",
       "898          申万宏源：疫情冲击下小家电需求侧亮点颇多 推荐3股    0.637827\n",
       "899          渤海证券：维持新能源电池行业“看好”评级 推荐5股    0.009702\n",
       "\n",
       "[900 rows x 2 columns]"
      ]
     },
     "execution_count": 9,
     "metadata": {},
     "output_type": "execute_result"
    }
   ],
   "source": [
    "import requests\n",
    "from bs4 import  BeautifulSoup\n",
    "import re\n",
    "import numpy as np\n",
    "import pandas as pd\n",
    "\n",
    "def request_url(url):\n",
    "    user_agent = 'Mozilla/5.0 (Windows NT 10.0; Win64; x64) AppleWebKit/537.36 (KHTML, like Gecko) Chrome/59.0.3071.109 Safari/537.36'\n",
    "    headers = {'User-Agent': user_agent} \n",
    "    \n",
    "    res = requests.get(url,headers=headers)\n",
    "    res.encoding = 'utf-8'\n",
    "    return res.text\n",
    "\n",
    "df=pd.DataFrame(columns = ('news', 'sentiments')) ## 初始化一个空的DataFrame\n",
    "for page in range(20):\n",
    "    url = 'https://finance.sina.com.cn/roll/index.d.html?cid=56588&page='+str(page+1)\n",
    "    ## 利用BeautifulSoup解析网页\n",
    "    soup = BeautifulSoup(request_url(url), 'lxml')\n",
    "    ## 利用find_all函数提取所需的新闻标题\n",
    "    info = [inf.text for inf in soup.find_all('a', target = '_blank')][2:]\n",
    "    ## 利用SnowNLP进行情感分析\n",
    "    from snownlp import SnowNLP\n",
    "    senti = [SnowNLP(text).sentiments for text in info]\n",
    "    ## 将结果保存至dataframe中\n",
    "    df = df.append(pd.DataFrame({'news': info, 'sentiments' : senti}))\n",
    "    \n",
    "df.reset_index(inplace = True, drop = True)\n",
    "df"
   ]
  },
  {
   "cell_type": "markdown",
   "metadata": {},
   "source": [
    "**Q3：**\n",
    "1. 从tushareAPI获取房地产行业的股票，并计算它们的收盘价收益率的的相关矩阵，日期为从去年到今年。\n",
    "2. 计算上述这些股票的夏普比率并按从大到小排序。\n",
    "3. 将夏普比率最大的股票价格与地产行业指数价格（通过对个股求平均获得）作线性回归，利用seaborn将结果可视化。"
   ]
  },
  {
   "cell_type": "markdown",
   "metadata": {},
   "source": [
    "**Answer:**"
   ]
  },
  {
   "cell_type": "code",
   "execution_count": 23,
   "metadata": {},
   "outputs": [
    {
     "data": {
      "text/plain": [
       "<AxesSubplot:xlabel='x', ylabel='y'>"
      ]
     },
     "execution_count": 23,
     "metadata": {},
     "output_type": "execute_result"
    },
    {
     "data": {
      "image/png": "[encoded data removed]",
      "text/plain": [
       "<Figure size 432x288 with 1 Axes>"
      ]
     },
     "metadata": {
      "needs_background": "light"
     },
     "output_type": "display_data"
    }
   ],
   "source": [
    "import tushare as ts\n",
    "import pandas as pd\n",
    "\n",
    "tushare_token = '1c8b06446534ae510c8c68e38fc248b99f89ac3814cb55645ae2be72'  # 请在 tushare.pro 网站注册并且告知学生身份，可以取得你的token\n",
    "pro = ts.pro_api(tushare_token)\n",
    "## 获取所有上市公司的股票列表\n",
    "data = pro.stock_basic(exchange='', list_status='L', fields='ts_code,symbol,name,area,industry,list_date')\n",
    "# print(data)\n",
    "## 筛选出industry列中包含“地产”的行\n",
    "estate = data[data['industry'].str.contains('地产')]\n",
    "# print(estate)\n",
    "## 得到地产行业的股票代码列表\n",
    "codes = estate.ts_code.tolist()\n",
    "# print(codes)\n",
    "\n",
    "## 根据地产股票代码列表获取日线行情数据\n",
    "df = []\n",
    "for code in codes:\n",
    "    df.append(pro.daily(ts_code=code, start_date='20190101', end_date='20210101').iloc[::-1,:].set_index('trade_date'))\n",
    "# print(df)\n",
    "\n",
    "## 将不同股票的数据表合并\n",
    "stk=pd.concat(df0, axis=1, join='outer')['close']\n",
    "stk.columns = codes\n",
    "# print(len(stk))\n",
    "coef = stk.pct_change().corr() ## 计算收益率的相关矩阵\n",
    "# print(coef)\n",
    "\n",
    "rf=0.03\n",
    "sr = (stk.pct_change().mean()-rf/250)/stk.pct_change().std() ## 计算夏普比率\n",
    "sr.sort_values(ascending = False) ## 从大到小排序\n",
    "\n",
    "stock = stk[sr.idxmax()] ## 夏普比率最大的股票\n",
    "# print(stock)\n",
    "index = stk.mean(axis=1) ## 通过对个股求平均获得指数\n",
    "# print(index)\n",
    "df00 = pd.concat([stock, index], axis=1)\n",
    "df00.rename(columns={0:'y', stock.name:'x'}, inplace = True)\n",
    "# print(df00)\n",
    "\n",
    "## 线性拟合\n",
    "from statsmodels.formula.api import ols\n",
    "model = ols(\"y ~ x\", df00).fit()\n",
    "# print(model.params)\n",
    "\n",
    "## 可视化\n",
    "import seaborn as sns\n",
    "sns.regplot(y='y', x='x', data=df00)"
   ]
  },
  {
   "cell_type": "markdown",
   "metadata": {},
   "source": [
    "**Q++:**\n",
    "- 编写MACD指标（macd指标的定义请自行百度，或参考课件Time Series Analysis中的这个练习：）\n",
    "    >**Exercise:**\n",
    "    >1. 从tushare获取000001.SZ这只股票今年的日行情数据。\n",
    "    >2. 绘制上述股票的12日指数滑动平均线(ema12)和26日指数滑动平均线(ema26)。\n",
    "    >3. 计算时间序列dif = ema12 - ema26，以及dif序列的9日指数滑动平均线，后者命名为dea。\n",
    "    >4. 绘制2x1的子图，子图1展示原始价格序列，子图2展示dif、dea以及macd=(dif-dea)x2。\n",
    "- 根据课件quant_learn中的海龟交易策略的代码，绘制上述macd策略的净值曲线。\n",
    "- 计算上述净值曲线的最大回撤。"
   ]
  },
  {
   "cell_type": "code",
   "execution_count": null,
   "metadata": {},
   "outputs": [],
   "source": []
  },
  {
   "cell_type": "code",
   "execution_count": null,
   "metadata": {},
   "outputs": [],
   "source": []
  }
 ],
 "metadata": {
  "kernelspec": {
   "display_name": "Python 3",
   "language": "python",
   "name": "python3"
  },
  "language_info": {
   "codemirror_mode": {
    "name": "ipython",
    "version": 3
   },
   "file_extension": ".py",
   "mimetype": "text/x-python",
   "name": "python",
   "nbconvert_exporter": "python",
   "pygments_lexer": "ipython3",
   "version": "3.7.9"
  }
 },
 "nbformat": 4,
 "nbformat_minor": 4
}
